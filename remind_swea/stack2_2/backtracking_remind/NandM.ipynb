{
 "cells": [
  {
   "cell_type": "code",
   "execution_count": 41,
   "metadata": {},
   "outputs": [
    {
     "name": "stdout",
     "output_type": "stream",
     "text": [
      "[[1, 2], [1, 3], [1, 4], [2, 1], [2, 3], [2, 4], [3, 1], [3, 2], [3, 4], [4, 1], [4, 2], [4, 3]]\n"
     ]
    }
   ],
   "source": [
    "# N과M(1)\n",
    "'''\n",
    "자연수 N과 M이 주어졌을 때, 길이가 M인, N이하의 자연수로 구성된 순열 출력\n",
    "'''\n",
    "def dfs(n,lst):\n",
    "    if n==M:\n",
    "        ans.append(lst)\n",
    "        return\n",
    "    \n",
    "    for i in range(1,N+1):\n",
    "        if visited[i] == 0:\n",
    "            visited[i] = 1\n",
    "            dfs(n+1, lst+[i])\n",
    "            visited[i] = 0\n",
    "\n",
    "N, M = map(int,input().split())\n",
    "ans = []\n",
    "visited = [0] *(N+1)\n",
    "dfs(0,[])\n",
    "print(ans)"
   ]
  },
  {
   "cell_type": "code",
   "execution_count": 43,
   "metadata": {},
   "outputs": [
    {
     "name": "stdout",
     "output_type": "stream",
     "text": [
      "[[1, 2], [1, 3], [1, 4], [2, 3], [2, 4], [3, 4]]\n"
     ]
    }
   ],
   "source": [
    "# N과M (2)\n",
    "'''\n",
    "1번과 동일하되 오름차순으로 구성된 것만\n",
    "'''\n",
    "def dfs(n,lst):\n",
    "    if n>N:\n",
    "        if len(lst) == M:\n",
    "            ans.append(lst)\n",
    "        return\n",
    "    \n",
    "    dfs(n+1,lst+[n])\n",
    "    dfs(n+1,lst)\n",
    "\n",
    "N, M = map(int,input().split())\n",
    "ans = []\n",
    "dfs(1,[])\n",
    "print(ans)"
   ]
  },
  {
   "cell_type": "code",
   "execution_count": 46,
   "metadata": {},
   "outputs": [
    {
     "name": "stdout",
     "output_type": "stream",
     "text": [
      "[[1, 1], [1, 2], [1, 3], [1, 4], [2, 1], [2, 2], [2, 3], [2, 4], [3, 1], [3, 2], [3, 3], [3, 4], [4, 1], [4, 2], [4, 3], [4, 4]]\n"
     ]
    }
   ],
   "source": [
    "# N과M (3)\n",
    "'''\n",
    "중복 순열 포함\n",
    "'''\n",
    "def dfs(n,lst):\n",
    "    if len(lst) == M:\n",
    "        ans.append(lst)\n",
    "        return\n",
    "    \n",
    "    for k in range(1,N+1):\n",
    "        dfs(n+1,lst+[k])\n",
    "\n",
    "N,M = map(int,input().split())\n",
    "ans = []\n",
    "dfs(1,[])\n",
    "print(ans)"
   ]
  },
  {
   "cell_type": "code",
   "execution_count": 49,
   "metadata": {},
   "outputs": [
    {
     "name": "stdout",
     "output_type": "stream",
     "text": [
      "1 1\n",
      "1 2\n",
      "1 3\n",
      "1 4\n",
      "2 2\n",
      "2 3\n",
      "2 4\n",
      "3 3\n",
      "3 4\n",
      "4 4\n"
     ]
    }
   ],
   "source": [
    "# N과M (4)\n",
    "'''\n",
    "앞 숫자 이상의 수가 다음에 와야하는 순열\n",
    "'''\n",
    "def dfs(n,lst):\n",
    "    if len(lst) == M:\n",
    "        print(*lst)\n",
    "        return\n",
    "    for k in range(1,N+1):\n",
    "        if lst == []:\n",
    "            dfs(n+1,lst+[k])\n",
    "        elif lst[-1] <= k:\n",
    "            dfs(n+1,lst+[k])\n",
    "\n",
    "N, M = map(int,input().split())\n",
    "ans = []\n",
    "dfs(1,[])"
   ]
  },
  {
   "cell_type": "code",
   "execution_count": 54,
   "metadata": {},
   "outputs": [
    {
     "name": "stdout",
     "output_type": "stream",
     "text": [
      "1 7\n",
      "1 8\n",
      "1 9\n",
      "7 1\n",
      "7 8\n",
      "7 9\n",
      "8 1\n",
      "8 7\n",
      "8 9\n",
      "9 1\n",
      "9 7\n",
      "9 8\n"
     ]
    }
   ],
   "source": [
    "# N과M (5)\n",
    "'''\n",
    "주어진 리스트로 이뤄진 순열 구성\n",
    "4 2\n",
    "9 8 7 1\n",
    "'''\n",
    "def dfs(n,lst):\n",
    "    if n == M:\n",
    "        print(*lst)\n",
    "        return\n",
    "    for k in range(N):\n",
    "        if visited[k] == 0:\n",
    "            visited[k] = 1\n",
    "            dfs(n+1,lst+[A[k]])\n",
    "            visited[k] = 0\n",
    "\n",
    "N, M = map(int,input().split())\n",
    "A = sorted(list(map(int,input().split())))\n",
    "visited = [0] * (N+1)\n",
    "ans = []\n",
    "dfs(0,[])\n"
   ]
  },
  {
   "cell_type": "code",
   "execution_count": 60,
   "metadata": {},
   "outputs": [
    {
     "name": "stdout",
     "output_type": "stream",
     "text": [
      "1 7\n",
      "1 8\n",
      "1 9\n",
      "7 8\n",
      "7 9\n",
      "8 9\n"
     ]
    }
   ],
   "source": [
    "# N과M (6)\n",
    "'''\n",
    "5와 동일, 단 오름차순\n",
    "4 2\n",
    "9 8 7 1\n",
    "'''\n",
    "def dfs(n,lst):\n",
    "    if len(lst) == M:\n",
    "        print(*lst)\n",
    "        return\n",
    "    for k in range(N):\n",
    "        if visited[k] == 0:\n",
    "            if lst == []:\n",
    "                visited[k] = 1\n",
    "                dfs(n+1,lst+[A[k]])\n",
    "                visited[k] = 0\n",
    "            elif lst != []:\n",
    "                if lst[-1] < A[k]:\n",
    "                    visited[k] = 1\n",
    "                    dfs(n+1, lst+[A[k]])\n",
    "                    visited[k] = 0\n",
    "\n",
    "N, M = map(int,input().split())\n",
    "A = sorted(list(map(int,input().split())))\n",
    "visited = [0]*N\n",
    "dfs(1,[])"
   ]
  },
  {
   "cell_type": "code",
   "execution_count": 72,
   "metadata": {},
   "outputs": [
    {
     "name": "stdout",
     "output_type": "stream",
     "text": [
      "1 1\n",
      "1 7\n",
      "1 8\n",
      "1 9\n",
      "7 1\n",
      "7 7\n",
      "7 8\n",
      "7 9\n",
      "8 1\n",
      "8 7\n",
      "8 8\n",
      "8 9\n",
      "9 1\n",
      "9 7\n",
      "9 8\n",
      "9 9\n"
     ]
    }
   ],
   "source": [
    "# N과M (7)\n",
    "'''\n",
    "5와 동일, 단 중복 허용\n",
    "'''\n",
    "def dfs(n,lst):\n",
    "    if len(lst) == M:\n",
    "        print(*lst)\n",
    "        return\n",
    "    \n",
    "    for k in range(N):\n",
    "        dfs(n+1,lst+[A[k]])\n",
    "\n",
    "N, M = map(int,input().split())\n",
    "A = sorted(list(map(int,input().split())))\n",
    "\n",
    "ans = []\n",
    "\n",
    "dfs(1,[])"
   ]
  },
  {
   "cell_type": "code",
   "execution_count": 74,
   "metadata": {},
   "outputs": [
    {
     "name": "stdout",
     "output_type": "stream",
     "text": [
      "1 1\n",
      "1 7\n",
      "1 8\n",
      "1 9\n",
      "7 7\n",
      "7 8\n",
      "7 9\n",
      "8 8\n",
      "8 9\n",
      "9 9\n"
     ]
    }
   ],
   "source": [
    "# N과M (8)\n",
    "'''\n",
    "순열을 중복 포함해서 출력하되, 전 숫자 그 이상의 수가 다음에 나와야한다.\n",
    "'''\n",
    "def dfs(n,lst):\n",
    "    if len(lst) == M:\n",
    "        print(*lst)\n",
    "        return\n",
    "    \n",
    "    for k in range(N):\n",
    "        if lst == []:\n",
    "            dfs(n+1,lst+[A[k]])\n",
    "        elif lst != []:\n",
    "            if lst[-1] <= A[k]:\n",
    "                dfs(n+1, lst+[A[k]])\n",
    "\n",
    "N,M = map(int,input().split())\n",
    "A = sorted(list(map(int,input().split())))\n",
    "dfs(1,[])"
   ]
  },
  {
   "cell_type": "code",
   "execution_count": 113,
   "metadata": {},
   "outputs": [
    {
     "name": "stdout",
     "output_type": "stream",
     "text": [
      "1 7\n",
      "1 9\n",
      "7 1\n",
      "7 9\n",
      "9 1\n",
      "9 7\n",
      "9 9\n"
     ]
    }
   ],
   "source": [
    "# N과M (9)\n",
    "# 중요 !! 조건을 추가할 때, 이전 기록을 확인해야하면 flag 활용 !!\n",
    "'''\n",
    "중복되는 순열 빼기 (index가 다르면 다른 수 취급)\n",
    "4 2\n",
    "9 7 9 1\n",
    "'''\n",
    "def dfs(n,lst):\n",
    "    if n == M:\n",
    "        ans.append(lst)\n",
    "        print(*lst)\n",
    "        return\n",
    "    prev = 0\n",
    "    for k in range(N):\n",
    "        if visited[k] == 0 and prev != A[k]:\n",
    "            prev = A[k]\n",
    "            visited[k] = 1\n",
    "            dfs(n+1,lst+[A[k]])\n",
    "            visited[k] = 0\n",
    "\n",
    "N, M = map(int,input().split())\n",
    "A = sorted(list(map(int,input().split())))\n",
    "ans = []\n",
    "visited = [0] * N\n",
    "dfs(0,[])"
   ]
  },
  {
   "cell_type": "code",
   "execution_count": 117,
   "metadata": {},
   "outputs": [
    {
     "name": "stdout",
     "output_type": "stream",
     "text": [
      "1 7\n",
      "1 9\n",
      "7 9\n",
      "9 9\n"
     ]
    }
   ],
   "source": [
    "# N과M (10)\n",
    "'''\n",
    "9번과 동일하나, 앞 수보다 뒤의 수가 크거나 같아야 한다.\n",
    "'''\n",
    "def dfs(n,lst):\n",
    "    if n == M:\n",
    "        print(*lst)\n",
    "        return\n",
    "    \n",
    "    prev = 0\n",
    "    for k in range(N):\n",
    "        if visited[k] == 0 and prev != A[k]:\n",
    "            if lst == []:\n",
    "                prev = A[k]\n",
    "                visited[k] = 1\n",
    "                dfs(n+1,lst+[A[k]])\n",
    "                visited[k] = 0\n",
    "            elif lst != []:\n",
    "                if lst[-1] <= A[k]:\n",
    "                    prev = A[k]\n",
    "                    visited[k] = 1\n",
    "                    dfs(n+1,lst+[A[k]])\n",
    "                    visited[k] = 0\n",
    "\n",
    "N, M = map(int,input().split())\n",
    "A = sorted(list(map(int,input().split())))\n",
    "\n",
    "visited = [0]*N\n",
    "dfs(0,[])"
   ]
  },
  {
   "cell_type": "code",
   "execution_count": 119,
   "metadata": {},
   "outputs": [
    {
     "name": "stdout",
     "output_type": "stream",
     "text": [
      "1 1\n",
      "1 7\n",
      "1 9\n",
      "7 1\n",
      "7 7\n",
      "7 9\n",
      "9 1\n",
      "9 7\n",
      "9 9\n"
     ]
    }
   ],
   "source": [
    "# N과M (11)\n",
    "'''\n",
    "중복 허용, 하지만 동일 수열은 출력 금지\n",
    "'''\n",
    "def dfs(n,lst):\n",
    "    if n == M:\n",
    "        print(*lst)\n",
    "        return\n",
    "    \n",
    "    prev = 0\n",
    "    for k in range(N):\n",
    "        if prev != A[k]:\n",
    "            prev = A[k]\n",
    "            dfs(n+1,lst+[A[k]])\n",
    "\n",
    "N, M = map(int,input().split())\n",
    "A = sorted(list(map(int,input().split())))\n",
    "dfs(0,[])"
   ]
  },
  {
   "cell_type": "code",
   "execution_count": 120,
   "metadata": {},
   "outputs": [
    {
     "name": "stdout",
     "output_type": "stream",
     "text": [
      "1 1\n",
      "1 7\n",
      "1 9\n",
      "7 7\n",
      "7 9\n",
      "9 9\n"
     ]
    }
   ],
   "source": [
    "# N과M (12)\n",
    "'''\n",
    "11번과 동일하나 앞의 숫자보다 뒤의 숫자가 크거나 같아야 한다.\n",
    "'''\n",
    "def dfs(n,lst):\n",
    "    if n == M:\n",
    "        print(*lst)\n",
    "        return\n",
    "    \n",
    "    prev = 0\n",
    "    for k in range(N):\n",
    "        if prev != A[k]:\n",
    "            if lst == []:\n",
    "                prev = A[k]\n",
    "                dfs(n+1,lst+[A[k]])\n",
    "            elif lst != [] and lst[-1]<=A[k]:\n",
    "                prev = A[k]\n",
    "                dfs(n+1,lst+[A[k]])\n",
    "\n",
    "N, M = map(int,input().split())\n",
    "A = sorted(list(map(int,input().split())))\n",
    "dfs(0,[])"
   ]
  }
 ],
 "metadata": {
  "kernelspec": {
   "display_name": "Python 3",
   "language": "python",
   "name": "python3"
  },
  "language_info": {
   "codemirror_mode": {
    "name": "ipython",
    "version": 3
   },
   "file_extension": ".py",
   "mimetype": "text/x-python",
   "name": "python",
   "nbconvert_exporter": "python",
   "pygments_lexer": "ipython3",
   "version": "3.11.8"
  }
 },
 "nbformat": 4,
 "nbformat_minor": 2
}
