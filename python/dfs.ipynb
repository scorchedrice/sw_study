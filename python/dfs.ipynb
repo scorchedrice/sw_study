{
 "cells": [
  {
   "cell_type": "markdown",
   "metadata": {},
   "source": [
    "# DFS 이해를 위한 학습"
   ]
  },
  {
   "cell_type": "code",
   "execution_count": 2,
   "metadata": {},
   "outputs": [
    {
     "name": "stdout",
     "output_type": "stream",
     "text": [
      "1\n",
      "2\n",
      "7\n",
      "6\n",
      "8\n",
      "3\n",
      "4\n",
      "5\n"
     ]
    }
   ],
   "source": [
    "# 재귀를 활용한 DFS\n",
    "\n",
    "# 1부터 N까지 총 total_room개의 방을 방문한다고 하면\n",
    "def dfs(graph, start_room, total_room):\n",
    "     \n",
    "    visited[start_room] = 1 # 방문 표시\n",
    "    print(start_room)\n",
    "    for i in graph[start_room]:\n",
    "        if visited[i] == 0: # 해당 그래프 연결된 통로를 확인하는데, 확인 결과 이동하지 않았던 방이라면\n",
    "            dfs(graph, i, total_room)\n",
    "\n",
    "graph = [\n",
    "    [],\n",
    "    [2,3,8],\n",
    "    [1,7],\n",
    "    [1,4,5],\n",
    "    [3,5],\n",
    "    [3,4],\n",
    "    [7],\n",
    "    [2,6,8],\n",
    "    [1,7],\n",
    "]\n",
    "visited = [0]*(9) # v개의 방의 방문 기록\n",
    "dfs(graph, 1, 9)\n"
   ]
  },
  {
   "cell_type": "code",
   "execution_count": 43,
   "metadata": {},
   "outputs": [
    {
     "name": "stdout",
     "output_type": "stream",
     "text": [
      "2\n",
      "7\n",
      "6\n",
      "8\n",
      "3\n",
      "4\n",
      "5\n"
     ]
    }
   ],
   "source": [
    "# stack을 활용한 DFS\n",
    "\n",
    "def dfs(graph, start_room, total_room):\n",
    "    stack = [1]\n",
    "    visited = [0] * (total_room+1)\n",
    "    visited[start_room] = 1 # 방문 표시\n",
    "    while True:\n",
    "        for i in graph[start_room]:\n",
    "            if visited[i] == 0: # 아직 가지 않았으면\n",
    "                stack += [i] # stack에 경로를 추가하고\n",
    "                visited[i] = 1\n",
    "                start_room = i # 해당 방으로 이동\n",
    "                print(start_room)\n",
    "                break\n",
    "        if len(graph[start_room]) * [1] == [visited[room_num] for room_num in graph[start_room]]:\n",
    "         # 위 for 반복문에 걸리지 않고 해당 자리에서 모든 경로가 가본 경우\n",
    "            if stack == []: # 그 와중에 stack도 비어있다면\n",
    "                break\n",
    "            else: # 그 외의 경우에\n",
    "                start_room = stack.pop()\n",
    "\n",
    "graph = [\n",
    "    [],\n",
    "    [2,3,8],\n",
    "    [1,7],\n",
    "    [1,4,5],\n",
    "    [3,5],\n",
    "    [3,4],\n",
    "    [7],\n",
    "    [2,6,8],\n",
    "    [1,7],\n",
    "]\n",
    "\n",
    "dfs(graph, 1, 8)"
   ]
  },
  {
   "cell_type": "code",
   "execution_count": null,
   "metadata": {},
   "outputs": [],
   "source": [
    "# 4871. 내가 실수한 내용이 무엇인가\n",
    "def dfs(start_room):\n",
    "    visited[start_room] = 1\n",
    "    stack = []\n",
    "    while True:\n",
    "        for i in input_map_data[start_room]:\n",
    "            if visited[i] == 0: # 방문한 경우가 없으면\n",
    "                stack += [start_room] # stack에 해당하는 방 번호를 추가한다.\n",
    "                start_room = i # 그 방으로 이동하고\n",
    "                visited[i] = 1 # 방문 기록을 남긴다.\n",
    "                break\n",
    "       \n",
    "        else: # for loop에 걸리지 않은 경우\n",
    "            if stack == []:\n",
    "                return visited[end_room]\n",
    "            else:\n",
    "                start_room = stack.pop()\n",
    "    \n",
    "T = int(input())\n",
    "for tc in range(1, T+1):\n",
    "\n",
    "    V, E = map(int, input().split()) # V의 방, E의 다리\n",
    "\n",
    "    input_map_data = [[] for _ in range(V+1)] # 해당 방의 정보 반영위해\n",
    "    visited = [0] * (V+1)\n",
    "    for i in range(E):\n",
    "        room_num, connect_room_num = map(int, input().split())\n",
    "        input_map_data[room_num] += [connect_room_num] # ***양쪽을 고려할 필요는 없음!!!!!***\n",
    "\n",
    "    start_room, end_room = map(int, input().split())\n",
    "    print(f\"#{tc} {dfs(start_room)}\")"
   ]
  }
 ],
 "metadata": {
  "kernelspec": {
   "display_name": "Python 3",
   "language": "python",
   "name": "python3"
  },
  "language_info": {
   "codemirror_mode": {
    "name": "ipython",
    "version": 3
   },
   "file_extension": ".py",
   "mimetype": "text/x-python",
   "name": "python",
   "nbconvert_exporter": "python",
   "pygments_lexer": "ipython3",
   "version": "3.11.7"
  }
 },
 "nbformat": 4,
 "nbformat_minor": 2
}
