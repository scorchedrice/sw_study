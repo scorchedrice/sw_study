{
 "cells": [
  {
   "cell_type": "markdown",
   "metadata": {},
   "source": [
    "# Stack\n",
    "- 자료를 쌓아 올린 형태의 자료구조로 선형 구조를 가진다.\n",
    "  - 선형구조 : 자료 간의 관계가 1대1의 관계를 갖는다.\n",
    "  - 비선형구조 : 자료 간의 관계가 1대N의 관계를 갖는다.(트리)\n",
    "- 마지막에 삽입(push)한 자료를 가장 먼저 꺼낸다(pop). (후입선출)\n",
    "\n",
    "## Stack 연산 명령어\n",
    "  - .isEmpty : 스택이 공백인지 아닌지 확인\n",
    "  - .peek : 스택의 top에 있는 item(원소)을 반환하는 연산\n",
    "\n",
    "## push 구현방법\n",
    "1. top은 -1로 시작한다.\n",
    "2. base_stack을 형성한다. (0으로 구성된 리스트)\n",
    "3. push하는 경우 top을 하나 더하고(global 선언하고) top이 size와 동일하다면(index범위를 초과한다면) 이를 조건문으로 걸어 에러를 방지하도록 해야한다.\n",
    "\n",
    "## pop 구현방법\n",
    "1. pop을 하는 경우 top을 -1을 하고 stack[top+1]을 출력한다.\n",
    "2. top == -1인 경우 0(아무것도 없다는 의미)을 return해야한다."
   ]
  },
  {
   "cell_type": "code",
   "execution_count": 3,
   "metadata": {},
   "outputs": [
    {
     "name": "stdout",
     "output_type": "stream",
     "text": [
      "30\n",
      "20\n",
      "10\n"
     ]
    }
   ],
   "source": [
    "# Example1 (push)\n",
    "\n",
    "def push(n):\n",
    "    global top\n",
    "    top += 1\n",
    "    if top == size:\n",
    "        print('OverFlow')\n",
    "    else:\n",
    "        stack[top] = n\n",
    "\n",
    "top = -1 # 시작 top 지정\n",
    "size = 10\n",
    "stack = [0]*size # 최대 size개 push\n",
    "\n",
    "# push(10)\n",
    "top += 1\n",
    "stack[top] = 10\n",
    "\n",
    "# push(20)\n",
    "top += 1\n",
    "stack[top] = 20\n",
    "\n",
    "push(30)\n",
    "\n",
    "while top >= 0:\n",
    "    top -= 1\n",
    "    print(stack[top+1])"
   ]
  },
  {
   "cell_type": "markdown",
   "metadata": {},
   "source": [
    "## Stack 응용\n",
    "### 괄호검사\n",
    "- 조건\n",
    "1. 왼쪽 괄호와 오른쪽 괄호의 개수가 같아야 한다.\n",
    "2. 왼쪽 괄호가 오른쪽 괄호보다 먼저 나와야 한다.\n",
    "3. 괄호 사이에는 포함관계만 표시된다.\n",
    "\n",
    "- Solve\n",
    "1. 왼쪽 괄호를 만나면 push\n",
    "2. 오른쪽 괄호를 만나면 pop 하여 비교 (대 중 소 괄호가 일치하는지)\n",
    "이 과정을 반복한 뒤 stack에 괄호가 남아있다면, 꺼낼 데이터가 없는데 꺼내라는 명령이 입력되면 오류"
   ]
  },
  {
   "cell_type": "code",
   "execution_count": null,
   "metadata": {},
   "outputs": [],
   "source": [
    "# d2_4866.py\n",
    "# {}, ()\n",
    "def find_error(check_str):\n",
    "    stack = [0]*len(check_str)\n",
    "    top = -1\n",
    "    for i in range(len(check_str)):\n",
    "\n",
    "        if check_str[i] == '(':\n",
    "            top += 1\n",
    "            stack[top] = '('\n",
    "            \n",
    "        elif check_str[i] == '{':\n",
    "            top += 1\n",
    "            stack[top] = '{'\n",
    "            \n",
    "        elif check_str[i] == ')':\n",
    "            if stack[top] == '(':\n",
    "                stack[top] = 0\n",
    "                top -= 1\n",
    "                \n",
    "            else:\n",
    "                return 0\n",
    "        elif check_str[i] == '}':\n",
    "            if stack[top] == '{':\n",
    "                stack[top] = 0\n",
    "                top -= 1\n",
    "                \n",
    "            else:\n",
    "                return 0\n",
    "        else:\n",
    "            continue\n",
    "    \n",
    "    if stack == [0]*len(check_str):\n",
    "        return 1\n",
    "    else:\n",
    "        return 0\n",
    "        \n",
    "T = int(input())\n",
    "\n",
    "for tc in range(1,T+1):\n",
    "    check_str = input()\n",
    "    print(f\"#{tc} {find_error(check_str)}\")"
   ]
  },
  {
   "cell_type": "code",
   "execution_count": 4,
   "metadata": {},
   "outputs": [
    {
     "name": "stdout",
     "output_type": "stream",
     "text": [
      "60\n"
     ]
    }
   ],
   "source": [
    "# function call example\n",
    "def f2(n):\n",
    "    n *= 2\n",
    "    print(n)\n",
    "    return\n",
    "\n",
    "def f1(c,d):\n",
    "    e = c+d\n",
    "    f2(e)\n",
    "\n",
    "a = 10\n",
    "b = 20\n",
    "c = a + b\n",
    "f1(a,b)\n"
   ]
  },
  {
   "cell_type": "markdown",
   "metadata": {},
   "source": [
    "## 재귀호출\n",
    "- 필요한 함수가 자기 자신과 같은 경우 자신을 호출하는 구조\n"
   ]
  },
  {
   "cell_type": "code",
   "execution_count": 10,
   "metadata": {},
   "outputs": [
    {
     "name": "stdout",
     "output_type": "stream",
     "text": [
      "13\n"
     ]
    }
   ],
   "source": [
    "# 피보나치\n",
    "def fibo(n):\n",
    "    if n<2:\n",
    "        return n\n",
    "    else:\n",
    "        return fibo(n-1) + fibo(n-2)\n",
    "\n",
    "print(fibo(7))"
   ]
  },
  {
   "cell_type": "markdown",
   "metadata": {},
   "source": [
    "## Memoization\n",
    "- 재귀를 활용한 fibo는 중복호출이 많이 발생. 이를 줄이는 방법은 없나?\n",
    "- 이전 계산 값을 메모리에 저장해서 매번 다시 계산하지 않도록 하는 방법\n"
   ]
  },
  {
   "cell_type": "code",
   "execution_count": 14,
   "metadata": {},
   "outputs": [
    {
     "name": "stdout",
     "output_type": "stream",
     "text": [
      "13 13\n",
      "[0, 1, 1, 2, 3, 5, 8, 13]\n",
      "13 41\n"
     ]
    }
   ],
   "source": [
    "def fibo(n):\n",
    "    global cnt\n",
    "    cnt += 1\n",
    "    if n <2:\n",
    "        return n\n",
    "    else:\n",
    "        return fibo(n-1) + fibo(n-2)\n",
    "\n",
    "def fibo_memo(n):\n",
    "    global cnt\n",
    "    cnt += 1\n",
    "    if n != 0 and memo[n] == 0:\n",
    "        memo[n] = fibo_memo(n-1) + fibo_memo(n-2)\n",
    "    return memo[n]\n",
    "\n",
    "cnt = 0\n",
    "n = 7\n",
    "memo = [0]*(n+1)\n",
    "memo[0] = 0\n",
    "memo[1] = 1\n",
    "print(fibo_memo(n), cnt)\n",
    "print(memo)\n",
    "cnt = 0\n",
    "print(fibo(n), cnt)"
   ]
  }
 ],
 "metadata": {
  "kernelspec": {
   "display_name": "Python 3",
   "language": "python",
   "name": "python3"
  },
  "language_info": {
   "codemirror_mode": {
    "name": "ipython",
    "version": 3
   },
   "file_extension": ".py",
   "mimetype": "text/x-python",
   "name": "python",
   "nbconvert_exporter": "python",
   "pygments_lexer": "ipython3",
   "version": "3.9.13"
  }
 },
 "nbformat": 4,
 "nbformat_minor": 2
}
