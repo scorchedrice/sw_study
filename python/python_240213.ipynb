{
 "cells": [
  {
   "cell_type": "markdown",
   "metadata": {},
   "source": [
    "# 문자열로 된 계산식을 계산하는 방법\n",
    "1. 후위표기법으로 변경한다. (3+4를 3 4 +로 변경)\n",
    "2. 각 숫자를 stack에 push"
   ]
  },
  {
   "cell_type": "markdown",
   "metadata": {},
   "source": [
    "# 계산기\n",
    "## (6+5*(2-8)/2)\n",
    "1. 한 글자를 가져온다.\n",
    "2. stack이 비어있는 경우엔 그냥 push.\n",
    "    2-1. 토큰이 연산자면 스택 top과 비교하여 더 높다면 push\n",
    "3. 그냥 숫자면 패스\n"
   ]
  },
  {
   "cell_type": "code",
   "execution_count": null,
   "metadata": {},
   "outputs": [],
   "source": []
  },
  {
   "cell_type": "code",
   "execution_count": 28,
   "metadata": {},
   "outputs": [
    {
     "name": "stdout",
     "output_type": "stream",
     "text": [
      "6528-*2/+\n"
     ]
    }
   ],
   "source": [
    "fx = '(6+5*(2-8)/2)'\n",
    "top = -1\n",
    "stack = [0] * 100\n",
    "\n",
    "icp = {'(':3, '*':2, '/':2, '+':1 , '-':1} #스택 밖에서 우선순위\n",
    "isp = {'(':0, '*':2, '/':2, '+':1 , '-':1} #스택 안에서 우선순위\n",
    "\n",
    "post = ''\n",
    "\n",
    "for tk in fx:\n",
    "    # 여는 괄호 push, 연산자이고, top 원소보다 우선순위가 높으면 push\n",
    "    if tk == '(' or (tk in '*/+-' and isp[stack[top]] < icp[tk]):\n",
    "        top += 1\n",
    "        stack[top] = tk\n",
    "    # 연산자인데 top 원소보다 우선순위가 낮거나 같으면\n",
    "    elif (tk in '*/+-' and isp[stack[top]] >= icp[tk]):\n",
    "        # top 원소의 우선순위가 낮을 때까지 pop\n",
    "        while isp[stack[top]] >= icp[tk]:\n",
    "            top -= 1\n",
    "            post += stack[top+1]\n",
    "        # push\n",
    "        top += 1\n",
    "        stack[top] = tk\n",
    "    # 닫는 괄호가 나오면, 여는 괄호를 만날 때까지 pop\n",
    "    elif tk == ')':\n",
    "        while stack[top] != '(':\n",
    "            top -= 1\n",
    "            post += stack[top+1]\n",
    "        top -= 1 # 여는 괄호 pop해서 버리기\n",
    "        stack[top+1]\n",
    "    # 피연산자인 경우\n",
    "    else:\n",
    "        post += tk\n",
    "print(post)"
   ]
  },
  {
   "cell_type": "markdown",
   "metadata": {},
   "source": [
    "# 백트래킹\n",
    "- 불필요한 연산을 줄이기 위함\n",
    "\n",
    "## 백트래킹 순서\n",
    "1. 상태 공간 트리의 깊이 우선 검색을 실시한다.\n",
    "2. 각 노드가 유망한지 점검한다.\n",
    "3. 만일 그 노드가 유망하지 않으면, 그 노드의 부모 노드로 돌아가서 검색을 계속한다."
   ]
  },
  {
   "cell_type": "code",
   "execution_count": null,
   "metadata": {},
   "outputs": [],
   "source": [
    "def f(i,k):\n",
    "    if i == k:\n",
    "        for j in range(k):\n",
    "            if bit[j]:\n",
    "                print"
   ]
  }
 ],
 "metadata": {
  "kernelspec": {
   "display_name": "Python 3",
   "language": "python",
   "name": "python3"
  },
  "language_info": {
   "codemirror_mode": {
    "name": "ipython",
    "version": 3
   },
   "file_extension": ".py",
   "mimetype": "text/x-python",
   "name": "python",
   "nbconvert_exporter": "python",
   "pygments_lexer": "ipython3",
   "version": "3.9.13"
  }
 },
 "nbformat": 4,
 "nbformat_minor": 2
}
