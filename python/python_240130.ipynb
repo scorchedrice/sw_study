{
 "cells": [
  {
   "cell_type": "markdown",
   "metadata": {},
   "source": [
    "## Counting Sort\n",
    "- 정수(정수로 표현 가능한) 자료에 적용 가능\n",
    "- 발생 회수를 기록하기 위해 정수 항목으로 인덱스 되는 카운트들의 배열을 사용\n",
    "- 카운트들을 위한 충분한 공간을 할당하려면 집합 내 가장 큰 정수가 무엇인지 알아야 한다.\n",
    "----\n",
    "1. 숫자 무엇이 몇개 있는지, 이를 index와 연결시키고\n",
    "- 누적된 횟수를 기록하는 방법도 존재 (count[i] = count[i-1] + count[i])\n",
    "- 날짜계산과 같이 구간의 합을 구하는 경우 이를 활용\n",
    "2. Temp 만들기\n",
    "- 원본 DATA의 마지막부터 과정을 진행\n",
    "- 누적된 것의 개수를 몇번째 라고 보고 그 곳에 그 원소를 위치시킨다\n",
    "- 누적된 수를 계산해서 하나 빼준다.\n",
    "\n",
    "- 또 마지막 다음의 원소를 확인하고 이를 언제 몇번째 순서에 위치시킬지 고려한다.\n"
   ]
  },
  {
   "cell_type": "markdown",
   "metadata": {},
   "source": [
    "## 완전 검색 (Exaustive Search)\n",
    "- 모든 경우의 수를 나열해보고 확인하는 기법\n",
    "- Brute-force, generate-and-test 기법이라고 부르기도\n",
    "- 경우의 수가 작을 때 유용\n",
    "- 수행속도 느림, 해답을 찾아낼 가능성은 높지만 다른 알고리즘을 사용하여 성능을 개선하는 것이 바람직하긴 하나 A형의 경우는 이를 통해 해결 가능"
   ]
  },
  {
   "cell_type": "markdown",
   "metadata": {},
   "source": [
    "## Greedy\n",
    "- 최적해를 구하는 데 사용되는 근시안적인 방법\n",
    "- 여러 경우 중 하나를 결정해야 할 때, 최적이라고 생각되는 것을 선택하는 방식으로 결과를 도출한다.\n",
    "- 각 선택의 시점에서 최적의 선택을 하는 것이 결과에서의 최적이라는 보장이 없긴 하다."
   ]
  },
  {
   "cell_type": "markdown",
   "metadata": {},
   "source": [
    "#### Baby-gin game\n",
    "- 0~9 사이 숫자 카드에서 임의의 카드 6장을 뽑을 때, 3장의 카드가 연속적인 번호를 가진 경우 run, 3장의 동일한 번호를 가지는 경우 triplet\n",
    "- 6장의 카드가 run과 triplet으로만 구성된 경우를 baby-gin\n",
    "- 6자리의 숫자를 입력 받아 baby-gin 여부를 판단하는 프로그램 작성!"
   ]
  },
  {
   "cell_type": "markdown",
   "metadata": {},
   "source": [
    "##### 해결 방안\n",
    "1. 완전 검색\n",
    "- input받은 data로 순열을 생성하여 이를 앞 3자리, 뒤 3자리를 각각 고려하여 판단\n",
    "2. Greedy\n",
    "- input받은 숫자데이터 각각이 몇번 입력되었는지 확인하고, 이를 run or triplet 조건을 충족하는지 판단. 이후 판단한 내용을 지우고 다시 판단(triplet or run)\n",
    "---\n",
    "0부터 9까지의 리스트를 만들어 진행을 해도 괜찮지만, 계산의 편의를 위해 10, 11 index를 가지는 2개의 추가 항을 만들어 계산의 조건을 줄이는 방법도 고려할 수 있다."
   ]
  },
  {
   "cell_type": "code",
   "execution_count": null,
   "metadata": {},
   "outputs": [],
   "source": [
    "# 11092. 최대 최소의 간격\n",
    "def my_min(list):\n",
    "    min_value = list[0]\n",
    "    for i in list:\n",
    "        if min_value > i:\n",
    "            min_value = i\n",
    "    return min_value\n",
    "\n",
    "def my_max(list):\n",
    "    max_value = list[0]\n",
    "    for i in list:\n",
    "        if max_value < i:\n",
    "            max_value = i\n",
    "    return max_value\n",
    "\n",
    "T = int(input())  # 총 반복 몇번\n",
    "for i in range(1, T + 1):\n",
    "    N = int(input())  # 확인할 양수 개수\n",
    "    num_list = list(map(int, input().split()))\n",
    "    num_max = my_max(num_list)\n",
    "    num_min = my_min(num_list)\n",
    "    max_index = 0\n",
    "    min_index = 0\n",
    "    for j in range(0,N):\n",
    "        if num_list[j] == num_max:\n",
    "            max_index = j\n",
    "\n",
    "    for k in range(0,N):\n",
    "        if num_list[k] == num_min:\n",
    "            min_index = k\n",
    "            break\n",
    "            \n",
    "    print(f\"#{i} {abs(max_index - min_index)}\")"
   ]
  },
  {
   "cell_type": "code",
   "execution_count": null,
   "metadata": {},
   "outputs": [],
   "source": [
    "# Baby-gin !\n"
   ]
  },
  {
   "cell_type": "code",
   "execution_count": null,
   "metadata": {},
   "outputs": [],
   "source": [
    "# 4834. 숫자카드\n",
    "def my_max(list):\n",
    "    max_value = list[0]\n",
    "    for i in list:\n",
    "        if max_value < i:\n",
    "            max_value = i\n",
    "    return max_value\n",
    "\n",
    "t = int(input())\n",
    "for tc in range(1,t+1):\n",
    "    N = int(input())\n",
    "    card_list = list(map(int, input()))\n",
    "    count_card = [0]*(10)\n",
    "    for i in range(0,10):\n",
    "        for card_num in card_list:\n",
    "            if card_num == i:\n",
    "                count_card[i] += 1\n",
    "\n",
    "    for_print = []\n",
    "    for j in range(0,10):\n",
    "        if my_max(count_card) == count_card[j]:\n",
    "            for_print.append(j)\n",
    "\n",
    "    print(f\"#{tc} {my_max(for_print)} {my_max(count_card)}\")\n",
    "\n"
   ]
  },
  {
   "cell_type": "code",
   "execution_count": null,
   "metadata": {},
   "outputs": [],
   "source": [
    "# 10566. 전기버스\n",
    "def last_index(name, list):\n",
    "    result = 0\n",
    "    for i in range(0,len(list)):\n",
    "        if list[i] == name:\n",
    "            result = i\n",
    "    return result\n",
    "\n",
    "T = int(input())\n",
    "for i in range(1,T+1):\n",
    "    K, N, M = list(map(int, input().split()))\n",
    "    station = list(range(0,N+1))\n",
    "    charge_station_coord = list(map(int, input().split()))\n",
    "    charge_station = [0]*(N+1)\n",
    "    for coord in charge_station_coord:\n",
    "        charge_station[coord] = 'Charge'\n",
    "\n",
    "    #start\n",
    "    current = 0\n",
    "    count = 0\n",
    "    find_charger = 0\n",
    "    end_info = 0\n",
    "\n",
    "    while end_info != 1:\n",
    "        for move in range(1, K+1):\n",
    "            current = current + 1\n",
    "            if current == N:\n",
    "                break\n",
    "            if charge_station[current] == 'Charge':\n",
    "                find_charger = find_charger + 1\n",
    "                charge_station[current] = 'Check'\n",
    "        if current == N:\n",
    "            break\n",
    "        if find_charger >= 1:\n",
    "            current = last_index('Check', charge_station)\n",
    "            count = count + 1\n",
    "            find_charger = 0\n",
    "        elif find_charger == 0:\n",
    "            end_info = 1\n",
    "            count = 0\n",
    "    print(f\"#{i} {count}\")"
   ]
  }
 ],
 "metadata": {
  "language_info": {
   "name": "python"
  }
 },
 "nbformat": 4,
 "nbformat_minor": 2
}
