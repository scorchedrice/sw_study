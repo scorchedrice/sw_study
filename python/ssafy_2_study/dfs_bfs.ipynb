{
 "cells": [
  {
   "cell_type": "markdown",
   "metadata": {},
   "source": [
    "# append, quene\n",
    "- 그냥 stack에서 append는 list 뒤에 줄을 세우는 거라면\n",
    "- quene에서는 list앞에 하나하나 추가해서 줄을 세우는 것으로 deque library를 사용한다."
   ]
  },
  {
   "cell_type": "code",
   "execution_count": 1,
   "metadata": {},
   "outputs": [
    {
     "name": "stdout",
     "output_type": "stream",
     "text": [
      "deque([3, 7, 1, 4])\n",
      "deque([4, 1, 7, 3])\n"
     ]
    }
   ],
   "source": [
    "# Quene 구현\n",
    "from collections import deque\n",
    "\n",
    "quene = deque()\n",
    "\n",
    "quene.append(5) # deque([5])\n",
    "quene.append(2) # deque([2, 5])\n",
    "quene.append(3) # deque([3, 2, 5])\n",
    "quene.append(7) # deque([7, 3, 2, 5])\n",
    "quene.popleft() # deque([7, 3, 2])\n",
    "quene.append(1) # deque([1, 7, 3, 2])\n",
    "quene.append(4) # deque([4, 1, 7, 3, 2])\n",
    "quene.popleft() # deque([4, 1, 7, 3])\n",
    "\n",
    "print(quene)\n",
    "quene.reverse()\n",
    "print(quene)"
   ]
  },
  {
   "cell_type": "markdown",
   "metadata": {},
   "source": [
    "# DFS(Depth-First Search)\n",
    "- stack 과정에 기초한 탐색 알고리즘으로 재귀함수를 활용한다.\n",
    "- O(n)의 소요시간\n",
    "\n",
    "# BFS(Breath First Search)\n",
    "- 너비 우선 탐색 (가까운 노드부터 탐색하는 알고리즘)\n",
    "- Quene 구조 사용\n",
    "- O(n)의 소요시간"
   ]
  },
  {
   "cell_type": "markdown",
   "metadata": {},
   "source": [
    "## 음료수 얼려먹기\n",
    "- N x M 크기의 얼음틀\n",
    "- 0은 구멍이 뚫려있고 칸막이가 존재하는 부분은 1로 표시\n",
    "- 생성되는 아이스크림의 개수를 구해라"
   ]
  },
  {
   "cell_type": "code",
   "execution_count": null,
   "metadata": {},
   "outputs": [],
   "source": [
    "# N M이 입력되고 이후 map 정보 입력됨\n",
    "import sys\n",
    "sys.stdin = open('input_study_5.txt', 'r')\n",
    "# total_map을 구할 때, space가 없어 split사용하기 어려움\n",
    "def()\n",
    "\n",
    "    \n",
    "\n",
    "\n"
   ]
  }
 ],
 "metadata": {
  "kernelspec": {
   "display_name": "Python 3",
   "language": "python",
   "name": "python3"
  },
  "language_info": {
   "codemirror_mode": {
    "name": "ipython",
    "version": 3
   },
   "file_extension": ".py",
   "mimetype": "text/x-python",
   "name": "python",
   "nbconvert_exporter": "python",
   "pygments_lexer": "ipython3",
   "version": "3.11.7"
  }
 },
 "nbformat": 4,
 "nbformat_minor": 2
}
