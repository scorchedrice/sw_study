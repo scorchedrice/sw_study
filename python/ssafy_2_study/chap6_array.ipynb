{
 "cells": [
  {
   "cell_type": "markdown",
   "metadata": {},
   "source": [
    "# Chap6. Array\n",
    "\n",
    "## Sorting - Selection sort (선택 정렬)\n",
    "- 간단히 말해 list에서 작은 것을 계속 뽑으면서 정렬\n",
    "\n",
    "### Swap(스와프)\n",
    "- 교환한다의 개념\n",
    "```python\n",
    "min_index = i\n",
    "if array[min_index] < array[j]:\n",
    "    min_index = j # min index 변경\n",
    "    array[i], array[min_index] = array[min_index], array[i] #i번째 있는 숫자를 j번째에 있는 숫자로 교환\n",
    "```\n",
    "- O(n**2)\n",
    "\n",
    "## Insertion Sort (삽입 정렬)\n",
    "- 데이터를 하나씩 확인하며 각 데이터를 적절한 위치에 삽입\n",
    "- 숫자 하나 하나 보며 낮은 index에 있는 숫자와 비교하며 자리를 계속 바꾸는 방식\n",
    "```python\n",
    "for i in range(1,len(array)):\n",
    "    for j in range(i, 0, -1): # i index부터 0까지 하나씩 낮춰가며 보겠다.\n",
    "        if array[j] < array[j-1]: # 만약 낮은 index의 수보다 현재 index의 수가 적다면\n",
    "            array[j], array[j-1] = array[j-1], array[j] # 스와핑\n",
    "        else: #아니면\n",
    "            break\n",
    "```\n",
    "- O(n) ~ O(n**2)\n",
    "\n",
    "## 퀵 정렬\n",
    "- 기준 데이터(피벗)를 설정하고 그 기준보다 큰 데이터와 작은 데이터의 위치를 바꾸면 어떨까?\n",
    "- O(nlog(n))\n",
    "#### Step1\n",
    "1. 피벗을 정한다. (리스트 첫번째 항목)\n",
    "2. 왼쪽에서부터 피벗보다 큰 데이터를 선택한다.\n",
    "3. 오른쪽에서부터(end) 피벗보다 작은 데이터를 선택한다.\n",
    "4. 2와 3에서 구한 값들을 교환한다.\n",
    "    - 단 교환하는 경우 왼쪽에서 탐색을 시작하여 얻은 데이터가 오른쪽에서 탐색을 시작해서 얻은 데이터보다 end에 가깝다면 작은 데이터(end에서 탐색 시작)를 피벗과 교환한다.\n",
    "5. 2,3,4의 과정을 반복한다.\n",
    "6. 이 과정을 반복하면 피벗을 기준으로 왼쪽엔 피벗보다 작은값, 오른쪽엔 큰값만 모이게 된다.(Divide, Partition)\n",
    "#### Step2\n",
    "1. Divide된 리스트들의 좌측과 우측을 각각 Step1과 동일한 과정을 진행한다.\n",
    "    - 이 과정들을 계속 반복하면 sorting된다."
   ]
  },
  {
   "cell_type": "code",
   "execution_count": 1,
   "metadata": {},
   "outputs": [
    {
     "name": "stdout",
     "output_type": "stream",
     "text": [
      "[0, 1, 2, 3, 4, 5, 6, 7, 8, 9]\n"
     ]
    }
   ],
   "source": [
    "# 정석\n",
    "array = [5,7,9,0,3,1,6,2,4,8]\n",
    "\n",
    "def quick_sort(array, start, end): #start : start index, end : end index\n",
    "    if start >= end: # 원소가 1개인 경우 종료\n",
    "        return\n",
    "    pivot = start #피벗 지정\n",
    "    left = start + 1\n",
    "    right = end\n",
    "    while left <= right:\n",
    "        while left <= end and array[left] <= array[pivot]: #피벗보다 큰 데이터를 찾는 과정\n",
    "            left += 1\n",
    "    \n",
    "        while right > start and array[right] >= array[pivot]: #피벗보다 작은 데이터를 찾는 과정\n",
    "            right -= 1\n",
    "        if left>right:\n",
    "            array[right], array[pivot] = array[pivot], array[right] #교차한 경우 스와핑 진행\n",
    "        else: #그렇지 않다면\n",
    "            array[left], array[right] = array[right], array[left] #찾은 큰 데이터와 작은 데이터 교환\n",
    "    # Divide 이후 우측, 좌측에 대해서도 동일한 과정을 진행\n",
    "    quick_sort(array, start, right -1)\n",
    "    quick_sort(array, right +1, end)\n",
    "\n",
    "quick_sort(array, 0, len(array)-1)\n",
    "print(array)"
   ]
  },
  {
   "cell_type": "code",
   "execution_count": 5,
   "metadata": {},
   "outputs": [
    {
     "name": "stdout",
     "output_type": "stream",
     "text": [
      "[0, 1, 2, 3, 4, 5, 6, 7, 8, 9]\n"
     ]
    }
   ],
   "source": [
    "# 간단\n",
    "array_1 = [5,7,9,0,3,1,6,2,4,8]\n",
    "\n",
    "def quick_sort_easy(array):\n",
    "    if len(array) <= 1: #원소가 1 이하인경우 sort 필요없음.\n",
    "        return array\n",
    "    \n",
    "    pivot = array[0] #기준 지정\n",
    "    tail = array[1:] #기준 외 계산할 부분 지정\n",
    "\n",
    "    left_block = [num for num in tail if num <= pivot] # pivot 좌측에 있어야 하는 블럭 지정\n",
    "    right_block = [num for num in tail if num > pivot] # pivot 우측에 있어야 하는 블럭 지정\n",
    "\n",
    "    return quick_sort_easy(left_block) + [pivot] + quick_sort_easy(right_block) # 재귀를 활용해서 결과 도출\n",
    "\n",
    "print(quick_sort_easy(array_1))"
   ]
  },
  {
   "cell_type": "markdown",
   "metadata": {},
   "source": [
    "## Count Sort (계수 정렬)\n",
    "- 가장 큰 데이터와 가장 작은 데이터의 차이가 1,000,000 이하인 경우 효과\n",
    "- 데이터가 정수여야 사용 가능\n",
    "- 숫자 무엇이 몇번 있냐 계산 후 이를 출력 (index의 확장)\n",
    "- 가장 큰값 + 1의 size를 가진 0으로 이루어진 list 활용"
   ]
  },
  {
   "cell_type": "code",
   "execution_count": null,
   "metadata": {},
   "outputs": [],
   "source": [
    "# Example 6-2"
   ]
  }
 ],
 "metadata": {
  "kernelspec": {
   "display_name": "Python 3",
   "language": "python",
   "name": "python3"
  },
  "language_info": {
   "codemirror_mode": {
    "name": "ipython",
    "version": 3
   },
   "file_extension": ".py",
   "mimetype": "text/x-python",
   "name": "python",
   "nbconvert_exporter": "python",
   "pygments_lexer": "ipython3",
   "version": "3.11.7"
  }
 },
 "nbformat": 4,
 "nbformat_minor": 2
}
