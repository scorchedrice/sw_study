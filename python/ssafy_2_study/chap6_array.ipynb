{
 "cells": [
  {
   "cell_type": "markdown",
   "metadata": {},
   "source": [
    "# Chap6. Array\n",
    "\n",
    "## Sorting - Selection sort (선택 정렬)\n",
    "- 간단히 말해 list에서 작은 것을 계속 뽑으면서 정렬\n",
    "\n",
    "### Swap(스와프)\n",
    "- 교환한다의 개념\n",
    "```python\n",
    "min_index = i\n",
    "if array[min_index] < array[j]:\n",
    "    min_index = j # min index 변경\n",
    "    array[i], array[min_index] = array[min_index], array[i] #i번째 있는 숫자를 j번째에 있는 숫자로 교환\n",
    "```\n",
    "- O(n**2)\n",
    "\n",
    "## Insertion Sort (삽입 정렬)\n",
    "- 데이터를 하나씩 확인하며 각 데이터를 적절한 위치에 삽입\n",
    "- 숫자 하나 하나 보며 낮은 index에 있는 숫자와 비교하며 자리를 계속 바꾸는 방식\n",
    "```python\n",
    "for i in range(1,len(array)):\n",
    "    for j in range(i, 0, -1): # i index부터 0까지 하나씩 낮춰가며 보겠다.\n",
    "        if array[j] < array[j-1]: # 만약 낮은 index의 수보다 현재 index의 수가 적다면\n",
    "            array[j], array[j-1] = array[j-1], array[j] # 스와핑\n",
    "        else: #아니면\n",
    "            break\n",
    "```\n",
    "- O(n) ~ O(n**2)\n",
    "\n",
    "## 퀵 정렬\n",
    "- 기준 데이터(피벗)를 설정하고 그 기준보다 큰 데이터와 작은 데이터의 위치를 바꾸면 어떨까?\n",
    "- O(nlog(n))\n",
    "#### Step1\n",
    "1. 피벗을 정한다. (리스트 첫번째 항목)\n",
    "2. 왼쪽에서부터 피벗보다 큰 데이터를 선택한다.\n",
    "3. 오른쪽에서부터(end) 피벗보다 작은 데이터를 선택한다.\n",
    "4. 2와 3에서 구한 값들을 교환한다.\n",
    "    - 단 교환하는 경우 왼쪽에서 탐색을 시작하여 얻은 데이터가 오른쪽에서 탐색을 시작해서 얻은 데이터보다 end에 가깝다면 작은 데이터(end에서 탐색 시작)를 피벗과 교환한다.\n",
    "5. 2,3,4의 과정을 반복한다.\n",
    "6. 이 과정을 반복하면 피벗을 기준으로 왼쪽엔 피벗보다 작은값, 오른쪽엔 큰값만 모이게 된다.(Divide, Partition)\n",
    "#### Step2\n",
    "1. Divide된 리스트들의 좌측과 우측을 각각 Step1과 동일한 과정을 진행한다.\n",
    "    - 이 과정들을 계속 반복하면 sorting된다."
   ]
  },
  {
   "cell_type": "code",
   "execution_count": 1,
   "metadata": {},
   "outputs": [
    {
     "name": "stdout",
     "output_type": "stream",
     "text": [
      "[0, 1, 2, 3, 4, 5, 6, 7, 8, 9]\n"
     ]
    }
   ],
   "source": [
    "# 정석\n",
    "array = [5,7,9,0,3,1,6,2,4,8]\n",
    "\n",
    "def quick_sort(array, start, end): #start : start index, end : end index\n",
    "    if start >= end: # 원소가 1개인 경우 종료\n",
    "        return\n",
    "    pivot = start #피벗 지정\n",
    "    left = start + 1\n",
    "    right = end\n",
    "    while left <= right:\n",
    "        while left <= end and array[left] <= array[pivot]: #피벗보다 큰 데이터를 찾는 과정\n",
    "            left += 1\n",
    "    \n",
    "        while right > start and array[right] >= array[pivot]: #피벗보다 작은 데이터를 찾는 과정\n",
    "            right -= 1\n",
    "        if left>right:\n",
    "            array[right], array[pivot] = array[pivot], array[right] #교차한 경우 스와핑 진행\n",
    "        else: #그렇지 않다면\n",
    "            array[left], array[right] = array[right], array[left] #찾은 큰 데이터와 작은 데이터 교환\n",
    "    # Divide 이후 우측, 좌측에 대해서도 동일한 과정을 진행\n",
    "    quick_sort(array, start, right -1)\n",
    "    quick_sort(array, right +1, end)\n",
    "\n",
    "quick_sort(array, 0, len(array)-1)\n",
    "print(array)"
   ]
  },
  {
   "cell_type": "code",
   "execution_count": 5,
   "metadata": {},
   "outputs": [
    {
     "name": "stdout",
     "output_type": "stream",
     "text": [
      "[0, 1, 2, 3, 4, 5, 6, 7, 8, 9]\n"
     ]
    }
   ],
   "source": [
    "# 간단\n",
    "array_1 = [5,7,9,0,3,1,6,2,4,8]\n",
    "\n",
    "def quick_sort_easy(array):\n",
    "    if len(array) <= 1: #원소가 1 이하인경우 sort 필요없음.\n",
    "        return array\n",
    "    \n",
    "    pivot = array[0] #기준 지정\n",
    "    tail = array[1:] #기준 외 계산할 부분 지정\n",
    "\n",
    "    left_block = [num for num in tail if num <= pivot] # pivot 좌측에 있어야 하는 블럭 지정\n",
    "    right_block = [num for num in tail if num > pivot] # pivot 우측에 있어야 하는 블럭 지정\n",
    "\n",
    "    return quick_sort_easy(left_block) + [pivot] + quick_sort_easy(right_block) # 재귀를 활용해서 결과 도출\n",
    "\n",
    "print(quick_sort_easy(array_1))"
   ]
  },
  {
   "cell_type": "markdown",
   "metadata": {},
   "source": [
    "## Count Sort (계수 정렬)\n",
    "- 가장 큰 데이터와 가장 작은 데이터의 차이가 1,000,000 이하인 경우 효과\n",
    "- 데이터가 정수여야 사용 가능\n",
    "- 숫자 무엇이 몇번 있냐 계산 후 이를 출력 (index의 확장)\n",
    "- 가장 큰값 + 1의 size를 가진 0으로 이루어진 list 활용"
   ]
  },
  {
   "cell_type": "code",
   "execution_count": null,
   "metadata": {},
   "outputs": [],
   "source": [
    "# Example 6-2 위에서 아래로\n",
    "N = int(input()) #숫자 받고\n",
    "\n",
    "num_list = []\n",
    "for num in range(0,N): # num_list를 구성한 후\n",
    "    num_list = num_list + [int(input())]\n",
    "\n",
    "for i in range(0,N): #i번째 숫자와\n",
    "    for j in range(i+1,N): # i다음 번째의 숫자를 비교하는데\n",
    "        if num_list[i] > num_list[j]: # i번째가 더 큰 수라면\n",
    "            num_list[i], num_list[j] = num_list[j], num_list[i] # 스와핑\n",
    "\n",
    "print(num_list)\n"
   ]
  },
  {
   "cell_type": "code",
   "execution_count": null,
   "metadata": {},
   "outputs": [],
   "source": [
    "# 6-3 성적이 낮은 순서로 학생 출력하기\n",
    "# 성적이 낮은 학생 이름 순으로 출력해야 한다.\n",
    "\n",
    "T = int(input())\n",
    "name_list = []\n",
    "score_list = []\n",
    "name_score = []\n",
    "\n",
    "for tc in range(1,T+1):\n",
    "    name_score += [list(map(str, input().split()))] # 입력 값 받기\n",
    "\n",
    "for i in range(0, T):\n",
    "    name_list = name_list + [name_score[i][0]] # 이름을 받고 이를 리스트화\n",
    "    score_list = score_list + [int(name_score[i][1])] # 성적을 받고 이를 리스트화 (str으로 받았으니 int로 다시 전환하는 과정 필)\n",
    "\n",
    "for i in range(0,T):\n",
    "    for j in range(i+1,T):\n",
    "        if score_list[i] > score_list[j]: # 만약 성적이 다음 것이 작다면 교환한다는 반복문\n",
    "            score_list[i], score_list[j] = score_list[j], score_list[i]\n",
    "            name_list[i], name_list[j] = name_list[j], name_list[i]\n",
    "\n",
    "for name in name_list:\n",
    "    print(name, end = ' ')"
   ]
  },
  {
   "cell_type": "code",
   "execution_count": null,
   "metadata": {},
   "outputs": [],
   "source": [
    "# 6-4 두 배열의 원소 교체\n",
    "def quick_sort(list): #quick_sort 정의\n",
    "    if len(list) <= 1:\n",
    "        return list\n",
    "    \n",
    "    pivot = list[0]\n",
    "    tail = list[1:]\n",
    "\n",
    "    left_side = [num for num in tail if num <= pivot]\n",
    "    right_side = [num for num in tail if num > pivot]\n",
    "\n",
    "    return quick_sort(left_side) + [pivot] + quick_sort(right_side)\n",
    "\n",
    "N, K = map(int, input().split()) # N, K, A, B를 받는 과정\n",
    "list_A = quick_sort(list(map(int, input().split())))\n",
    "list_B = quick_sort(list(map(int, input().split())))\n",
    "\n",
    "for k in range(K): # K번 스와핑 가능하므로 K번 수행\n",
    "    list_A[k], list_B[(N-1)-k] = list_B[(N-1)-k], list_A[k] # quick_sort 한 A의 첫째 항(min)과 B의 마지막 항(max)를 스와핑\n",
    "\n",
    "result = 0\n",
    "for num in list_A: # result를 구하는 과정\n",
    "    result = result + num\n",
    "print(result)"
   ]
  }
 ],
 "metadata": {
  "kernelspec": {
   "display_name": "Python 3",
   "language": "python",
   "name": "python3"
  },
  "language_info": {
   "codemirror_mode": {
    "name": "ipython",
    "version": 3
   },
   "file_extension": ".py",
   "mimetype": "text/x-python",
   "name": "python",
   "nbconvert_exporter": "python",
   "pygments_lexer": "ipython3",
   "version": "3.11.7"
  }
 },
 "nbformat": 4,
 "nbformat_minor": 2
}
