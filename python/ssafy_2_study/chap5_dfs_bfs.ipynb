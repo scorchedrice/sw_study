{
 "cells": [
  {
   "cell_type": "markdown",
   "metadata": {},
   "source": [
    "# append, quene\n",
    "- 그냥 stack에서 append는 list 뒤에 줄을 세우는 거라면\n",
    "- quene에서는 list앞에 하나하나 추가해서 줄을 세우는 것으로 deque library를 사용한다."
   ]
  },
  {
   "cell_type": "code",
   "execution_count": 1,
   "metadata": {},
   "outputs": [
    {
     "name": "stdout",
     "output_type": "stream",
     "text": [
      "deque([3, 7, 1, 4])\n",
      "deque([4, 1, 7, 3])\n"
     ]
    }
   ],
   "source": [
    "# Quene 구현\n",
    "from collections import deque\n",
    "\n",
    "quene = deque()\n",
    "\n",
    "quene.append(5) # deque([5])\n",
    "quene.append(2) # deque([2, 5])\n",
    "quene.append(3) # deque([3, 2, 5])\n",
    "quene.append(7) # deque([7, 3, 2, 5])\n",
    "quene.popleft() # deque([7, 3, 2])\n",
    "quene.append(1) # deque([1, 7, 3, 2])\n",
    "quene.append(4) # deque([4, 1, 7, 3, 2])\n",
    "quene.popleft() # deque([4, 1, 7, 3])\n",
    "\n",
    "print(quene)\n",
    "quene.reverse()\n",
    "print(quene)"
   ]
  },
  {
   "cell_type": "code",
   "execution_count": 3,
   "metadata": {},
   "outputs": [
    {
     "name": "stdout",
     "output_type": "stream",
     "text": [
      "0 : popleft() result\n",
      "[2] : after popleft()\n"
     ]
    }
   ],
   "source": [
    "# library없이 popleft()구현하기\n",
    "def my_popleft(my_index,stack):\n",
    "    my_index = stack[0]\n",
    "    del stack[0]\n",
    "\n",
    "stack = []\n",
    "stack += [1]\n",
    "stack += [2]\n",
    "current_coord = 0\n",
    "my_popleft(current_coord, stack)\n",
    "print(current_coord, ': popleft() result')\n",
    "print(stack, ': after popleft()')"
   ]
  },
  {
   "cell_type": "markdown",
   "metadata": {},
   "source": [
    "# DFS(Depth-First Search)\n",
    "- stack 과정에 기초한 탐색 알고리즘으로 재귀함수를 활용한다.\n",
    "- O(n)의 소요시간\n",
    "- 모든 곳에 방문 가능하냐, 연결되어있냐 등에 활용\n",
    "\n",
    "# BFS(Breath First Search)\n",
    "- 너비 우선 탐색 (가까운 노드부터 탐색하는 알고리즘)\n",
    "- Quene 구조 사용 (라이브러리 없이도 구현 가능 (나만의 popleft 활용))\n",
    "- O(n)의 소요시간\n",
    "- 미로의 최단거리에 활용"
   ]
  },
  {
   "cell_type": "code",
   "execution_count": 1,
   "metadata": {},
   "outputs": [
    {
     "name": "stdout",
     "output_type": "stream",
     "text": [
      "3\n"
     ]
    }
   ],
   "source": [
    "# 음료수 얼려먹기 8-3\n",
    "N = 4\n",
    "M = 5\n",
    "board = [[0,0,1,1,0], [0,0,0,1,1], [1,1,1,1,1], [0,0,0,0,0]]\n",
    "# 0이 구멍이 뚫려있는 부분, 1이 칸막이\n",
    "'''\n",
    "0의 위치를 찾고, 그 위치에서 탐색을 시작한다.\n",
    "0으로 계속 이동하면서 방문 위치는 2로 변경하는 식을 작성한다.\n",
    "사이클이 한번 끝나면 cnt를 1 추가하고 최종 cnt를 결론으로 도출한다.\n",
    "'''\n",
    "def dfs(i, j):\n",
    "    stack_i = []\n",
    "    stack_j = []\n",
    "    di = [-1, 1, 0, 0] # 북 남 동 서\n",
    "    dj = [0, 0, 1, -1]\n",
    "    while True:\n",
    "        for dir in range(4): # 4방향 탐색\n",
    "            board[i][j] = 2 # 탐색을 시작하는 위치에 2를 기록한다.\n",
    "            if 0 <= i + di[dir] <N and 0 <= j + dj[dir] <M and board[i+di[dir]][j+dj[dir]] == 0:\n",
    "                # index조건을 만족하면서 해당 위치에 구멍뚫린 칸이 있다면\n",
    "                stack_i += [i]\n",
    "                stack_j += [j] # 현 위치를 기록하고\n",
    "                i = i + di[dir]\n",
    "                j = j + dj[dir] # 해당 위치로 이동한다.\n",
    "                break # for loop를 강제 종료하고 while loop를 다시 진행한다.\n",
    "        else: # for loop가 모두 작동한 이후\n",
    "            if stack_i == [] and stack_j == []: # stack이 비어있다면\n",
    "                break # while loop 종료\n",
    "            else:\n",
    "                i = stack_i.pop() # 되돌아간다.\n",
    "                j = stack_j.pop()\n",
    "    return\n",
    "\n",
    "def icecream(board):\n",
    "    # 0의 위치를 찾는 과정\n",
    "    result = 0\n",
    "    while True:\n",
    "        cnt_zero = 0 # loop 종료를 위한 새로운 변수. 0인 경우 (즉 0이 발견되지 않는 경우 종료 위해)\n",
    "        for i in range(N):\n",
    "            for j in range(M):\n",
    "                if board[i][j] == 0: # 0이 있으면\n",
    "                    dfs(i, j) # 탐색 시작\n",
    "                    cnt_zero += 1 # 0이 있었다는 말이니까 1추가\n",
    "                    result += 1 # 탐색을 시작한 횟수(== 아이스크림 제작 가능 수)\n",
    "        if cnt_zero == 0: # for loop 조건에 걸리지 않아(0이 발견되지 않아) 종료해야 하는 경우\n",
    "            break\n",
    "    return result\n",
    "\n",
    "print(icecream(board))"
   ]
  },
  {
   "cell_type": "code",
   "execution_count": 4,
   "metadata": {},
   "outputs": [
    {
     "name": "stdout",
     "output_type": "stream",
     "text": [
      "8\n"
     ]
    }
   ],
   "source": [
    "# 음료수 얼려먹기 8-3\n",
    "N, M = map(int, input().split())\n",
    "board = [list(map(int, input())) for _ in range(N)]\n",
    "# 0이 구멍이 뚫려있는 부분, 1이 칸막이\n",
    "'''\n",
    "15 14\n",
    "00000111100000\n",
    "11111101111110\n",
    "11011101101110\n",
    "11011101100000\n",
    "11011111111111\n",
    "11011111111100\n",
    "11000000011111\n",
    "01111111111111\n",
    "00000000011111\n",
    "01111111111000\n",
    "00011111111000\n",
    "00000001111000\n",
    "11111111110011\n",
    "11100011111111\n",
    "11100011111111\n",
    "'''\n",
    "def dfs(i, j):\n",
    "    stack_i = []\n",
    "    stack_j = []\n",
    "    di = [-1, 1, 0, 0] # 북 남 동 서\n",
    "    dj = [0, 0, 1, -1]\n",
    "    while True:\n",
    "        for dir in range(4): # 4방향 탐색\n",
    "            board[i][j] = 2 # 탐색을 시작하는 위치에 2를 기록한다.\n",
    "            if 0 <= i + di[dir] <N and 0 <= j + dj[dir] <M and board[i+di[dir]][j+dj[dir]] == 0:\n",
    "                # index조건을 만족하면서 해당 위치에 구멍뚫린 칸이 있다면\n",
    "                stack_i += [i]\n",
    "                stack_j += [j] # 현 위치를 기록하고\n",
    "                i = i + di[dir]\n",
    "                j = j + dj[dir] # 해당 위치로 이동한다.\n",
    "                break # for loop를 강제 종료하고 while loop를 다시 진행한다.\n",
    "        else: # for loop가 모두 작동한 이후\n",
    "            if stack_i == [] and stack_j == []: # stack이 비어있다면\n",
    "                break # while loop 종료\n",
    "            else:\n",
    "                i = stack_i.pop() # 되돌아간다.\n",
    "                j = stack_j.pop()\n",
    "    return\n",
    "\n",
    "def icecream(board):\n",
    "    # 0의 위치를 찾는 과정\n",
    "    result = 0\n",
    "    while True:\n",
    "        cnt_zero = 0 # loop 종료를 위한 새로운 변수. 0인 경우 (즉 0이 발견되지 않는 경우 종료 위해)\n",
    "        for i in range(N):\n",
    "            for j in range(M):\n",
    "                if board[i][j] == 0: # 0이 있으면\n",
    "                    dfs(i, j) # 탐색 시작\n",
    "                    cnt_zero += 1 # 0이 있었다는 말이니까 1추가\n",
    "                    result += 1 # 탐색을 시작한 횟수(== 아이스크림 제작 가능 수)\n",
    "        if cnt_zero == 0: # for loop 조건에 걸리지 않아(0이 발견되지 않아) 종료해야 하는 경우\n",
    "            break\n",
    "    return result\n",
    "\n",
    "print(icecream(board))"
   ]
  },
  {
   "cell_type": "code",
   "execution_count": 5,
   "metadata": {},
   "outputs": [
    {
     "name": "stdout",
     "output_type": "stream",
     "text": [
      "10\n",
      "------\n",
      "[3, 0, 5, 0, 7, 0]\n",
      "[2, 3, 4, 5, 6, 7]\n",
      "[0, 0, 0, 0, 0, 8]\n",
      "[1, 1, 1, 1, 10, 9]\n",
      "[1, 1, 1, 1, 1, 10]\n"
     ]
    }
   ],
   "source": [
    "# 8-4 미로탈출\n",
    "# N*M maze (4이상 200이하)\n",
    "# start = 1,1 ... index 조심!!!\n",
    "# exit = N,M\n",
    "# monster : 0, safe : 1\n",
    "'''\n",
    "아이스크림 문제와 동일하게 기록하며 이동한다.\n",
    "return값을 stack으로 한다면, 이동한 기록을 확인할 수 있다.\n",
    " ----- 불필요한 이동이 생길 수 있음.\n",
    "이 stack의 길이를 답으로 할 수 있다.\n",
    "'''\n",
    "\n",
    "''' test1\n",
    "5 6\n",
    "101010\n",
    "111111\n",
    "000001\n",
    "111111\n",
    "111111\n",
    "ans : 10\n",
    "'''\n",
    "''' test2\n",
    "6 6\n",
    "111111\n",
    "111111\n",
    "001001\n",
    "110011\n",
    "001111\n",
    "111111 \n",
    "ans : 11\n",
    "'''\n",
    "''' test3\n",
    "6 6\n",
    "111111\n",
    "000001\n",
    "111111\n",
    "010000\n",
    "111000\n",
    "001111\n",
    "ans : 19\n",
    "'''\n",
    "def maze_runner(maze_map):\n",
    "    current_i = 0\n",
    "    current_j = 0\n",
    "    di = [-1, 1, 0, 0] # 북 남 동 서\n",
    "    dj = [0, 0, 1, -1]\n",
    "    maze_stack_i = []\n",
    "    maze_stack_j = []\n",
    "    while True:\n",
    "        for dir in range(4): # 4방향 탐색\n",
    "            if 0 <= current_i + di[dir] < N and 0 <= current_j + dj[dir] < M and maze_map[current_i+di[dir]][current_j+dj[dir]] == 1:\n",
    "                # index범위 조건을 만족하면서 해당 위치에 1이 있다면(이동가능하다면)\n",
    "                maze_stack_i += [current_i + di[dir]]\n",
    "                maze_stack_j += [current_j + dj[dir]] # 이동 가능한 후보를 스택에 추가한다.\n",
    "        for _ in range(len(maze_stack_i)):\n",
    "            if maze_map[maze_stack_i[_]][maze_stack_j[_]] == 1: # 해당 위치가 방문한 적이 없다면\n",
    "                maze_map[maze_stack_i[_]][maze_stack_j[_]] = maze_map[current_i][current_j] + 1 # 주변 위치에 넘버링을 한다.\n",
    "        \n",
    "        if maze_stack_i == []:\n",
    "            return '탈출 불가'\n",
    "\n",
    "        current_i = maze_stack_i[0] # 라이브러리 없이 popleft()를 구현\n",
    "        current_j = maze_stack_j[0]\n",
    "        del maze_stack_i[0]\n",
    "        del maze_stack_j[0]\n",
    "        if current_i == N-1 and current_j == M-1:\n",
    "            return maze_map[N-1][M-1]\n",
    "    return\n",
    "\n",
    "N, M = map(int, input().split())\n",
    "maze_map = [list(map(int, input())) for _ in range(N)]\n",
    "print(maze_runner(maze_map))\n",
    "# 아래는 함수 실행 결과 맵이 어떻게 바뀌었나 보기 위함임\n",
    "print('------')\n",
    "for _ in range(N):\n",
    "    print(maze_map[_])"
   ]
  }
 ],
 "metadata": {
  "kernelspec": {
   "display_name": "Python 3",
   "language": "python",
   "name": "python3"
  },
  "language_info": {
   "codemirror_mode": {
    "name": "ipython",
    "version": 3
   },
   "file_extension": ".py",
   "mimetype": "text/x-python",
   "name": "python",
   "nbconvert_exporter": "python",
   "pygments_lexer": "ipython3",
   "version": "3.11.8"
  }
 },
 "nbformat": 4,
 "nbformat_minor": 2
}
