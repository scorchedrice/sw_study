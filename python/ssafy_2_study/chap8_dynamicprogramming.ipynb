{
 "cells": [
  {
   "cell_type": "markdown",
   "metadata": {},
   "source": [
    "# Top-down and Bottom-up\n",
    "- Top-down : 재귀함수 활용으로 불필요한 연산 많음\n",
    "- Bottom-up : 차근차근 올라가는 방식으로 중복되는 불필요한 연산이 적음"
   ]
  },
  {
   "cell_type": "code",
   "execution_count": 31,
   "metadata": {},
   "outputs": [
    {
     "name": "stdout",
     "output_type": "stream",
     "text": [
      "7\n"
     ]
    }
   ],
   "source": [
    "# 8-2\n",
    "# X%5 == 0 ... X/5\n",
    "# X%3 == 0 ... X/3\n",
    "# X%2 == 0 ... X/2\n",
    "# X-1\n",
    "# X는 1이상 30000이하\n",
    "\n",
    "# Bottom-up\n",
    "d = [0]*30001\n",
    "N = 3000\n",
    "for i in range(2,N+1):\n",
    "    d[i] = d[i-1] +1\n",
    "    if i%5 == 0:\n",
    "        d[i] = min(d[i],d[i//5]+1)\n",
    "    if i%2 == 0:\n",
    "        d[i] = min(d[i],d[i//2]+1)\n",
    "    if i%3 == 0:\n",
    "        d[i]=min(d[i],d[i//3]+1)  \n",
    "print(d[N])\n",
    "# 이해 못해서 책 참고했음"
   ]
  },
  {
   "cell_type": "markdown",
   "metadata": {},
   "source": [
    "## 8-2 궁금한점\n",
    "- 2,3,5의 조건 중 두개이상이 걸리는 경우, if의 순서가 영향을 끼치진 않을까?\n",
    "    - 아 elif가 아니고 if를 여러번 사용해서 그렇구나\n",
    "    - 공배수의 경우 d[i]는 조건에 들어가서 최솟값으로 계속 바뀌기 때문에 나중에 비교하는 것에 적용되어 결국엔 모든 경우의 수를 비교하는 셈"
   ]
  },
  {
   "cell_type": "code",
   "execution_count": 35,
   "metadata": {},
   "outputs": [
    {
     "name": "stdout",
     "output_type": "stream",
     "text": [
      "1900\n"
     ]
    }
   ],
   "source": [
    "# 8-3 전투개미\n",
    "# [900, 1, 500, 1000, 499]같은 경우 1,4를 택해야 최선인데, 이러한 내용이 반영되도록 식을 짜보자\n",
    "# case1 : 0번째 터는 경우, case2 : 1번째 터는 경우로 시작\n",
    "# 터는 창고와 터는 창고 사이 털지 않는 창고의 수는 1, 2\n",
    "\n",
    "N = 5 # 3이상 100이하\n",
    "K = [900, 1, 500, 1000, 499] # 0이상1000이하\n",
    "\n",
    "accum_list = [0]*100 # 창고 수만큼 리스트 생성\n",
    "accum_list[0] = K[0] # 첫 창고(index = 0)만 털었을 경우\n",
    "accum_list[1] = K[1] # 두번째 창고(index = 1)만 털었을 경우\n",
    "accum_list[2] = K[0] + K[2] # 세번째 창고를 터는 경우 (index 0, 2)\n",
    "\n",
    "for i in range(3,100): # 네번째 창고 (index = 3)부터 max를 사용하여 최대값들을 누적시켜야함\n",
    "    accum_list[i] = max([(accum_list[i-2] + K[i]), accum_list[i-3] + K[i]])\n",
    "    if i == N-1:\n",
    "        break\n",
    "    \n",
    "# 이 수식 설명 (index를 기준으로 설명)\n",
    "'''\n",
    "3번의 창고의 경우 0번째 창고를 턴 후 보유한 식량의 양 혹은 1번째 창고를 턴 후 보유한 식량과\n",
    "3번의 식량을 합한 값이 3번을 털었을 때 가지고 있을 수 있는 최대 식량 후보다.\n",
    "max를 활용하여 최대값을 도출한다.\n",
    "\n",
    "마찬가지로 5번의 경우 3번 창고를 털었을 때 보유한 식량의 양 혹은 2번 창고를 털었을 때 보유한 식량의 양과\n",
    "5번의 식량을 합한 값이 가지고 있을 수 있는 최대 식량 후보다.\n",
    "max를 활용하여 최대값을 도출한다.\n",
    "'''\n",
    "\n",
    "print(max(accum_list))"
   ]
  },
  {
   "cell_type": "code",
   "execution_count": 38,
   "metadata": {},
   "outputs": [
    {
     "name": "stdout",
     "output_type": "stream",
     "text": [
      "11\n"
     ]
    }
   ],
   "source": [
    "# 8-4 바닥공사\n",
    "# 주어진 길이 N을 1과 2의 조합의 합으로 구하는 방식을 응용하자\n",
    "# 1으로만 구성되는 경우 경우의 수는 1\n",
    "# 2인 경우의 수 3\n",
    "# Combination(조합) 사용 - 규칙을 찾은게 이거였다. 다음엔 더 쉽게 사고하기. 너무 복잡.\n",
    "\n",
    "import math\n",
    "\n",
    "N = 4\n",
    "tile_accum_list = [0]*(1001) # 임의의 리스트 생성\n",
    "tile_accum_list[1] = 1\n",
    "tile_accum_list[2] = 3\n",
    "\n",
    "if N >= 3:\n",
    "    for i in range(3,N+2):\n",
    "        my_cnt = 0\n",
    "        a = i+1\n",
    "        b = -1\n",
    "        if i % 2 == 0:\n",
    "            while a != b:\n",
    "                a -= 1\n",
    "                b += 1\n",
    "                tile_accum_list[i] += (2**my_cnt)*math.comb(a,b)\n",
    "                my_cnt += 1\n",
    "                if a == b:\n",
    "                    break\n",
    "        else:\n",
    "            while a != b:\n",
    "                a -= 1\n",
    "                b += 1\n",
    "                tile_accum_list[i] += (2**my_cnt)*math.comb(a,b)\n",
    "                my_cnt += 1\n",
    "                if a-b == 1:\n",
    "                    break\n",
    "\n",
    "print(tile_accum_list[N]%796796)"
   ]
  }
 ],
 "metadata": {
  "kernelspec": {
   "display_name": "Python 3",
   "language": "python",
   "name": "python3"
  },
  "language_info": {
   "codemirror_mode": {
    "name": "ipython",
    "version": 3
   },
   "file_extension": ".py",
   "mimetype": "text/x-python",
   "name": "python",
   "nbconvert_exporter": "python",
   "pygments_lexer": "ipython3",
   "version": "3.11.7"
  }
 },
 "nbformat": 4,
 "nbformat_minor": 2
}
