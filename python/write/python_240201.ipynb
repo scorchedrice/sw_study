{
 "cells": [
  {
   "cell_type": "markdown",
   "metadata": {},
   "source": [
    "# 240201 - Array2"
   ]
  },
  {
   "cell_type": "markdown",
   "metadata": {},
   "source": [
    "## 검색\n",
    "- 저장되어 있는 자료 중 원하는 항목을 찾는 작업\n",
    "\n",
    "### 1. 순차검색(Sequential Search)\n",
    "- 가장 간단하고 직관적인 검색방법으로, 일렬로 되어 있는 자료를 순서대로 검색하는 방법이다.\n",
    "- 배열, 연결 리스트 등 순차구조로 구현된 자료구조에서 원하는 항목을 찾을 때 유용\n",
    "- 구현이 쉽지만 검색 대상의 수가 많은 경우에는 수행시간이 급증하여 비효율적임\n",
    "\n",
    "----\n",
    "정렬이 되어있는 경우, 아닌 경우 어떤식으로 활용할까?\n",
    "- 정렬이 되어있지 않은 경우\n",
    "  - 첫 원소부터 순서대로 검색 대상과 키 값이 같은 원소가 있는지 비교하며 찾는다.\n",
    "  - 키 값이 동일한 원소를 찾으면 그 원소의 인덱스 반환\n",
    "  - 자료구조의 마지막 까지 대상을 찾지 못한다면 실패\n",
    "  - O(n)\n",
    "\n",
    "- 정렬되어 있는 경우\n",
    "  - 자료가 오름차순으로 정렬된 상태에서 검색 한다고 가정하면\n",
    "  - 위와 동일한 과정을 거치지만 찾고자 하는 값보다 큰 값은 찾지 않는다.\n",
    "  - 즉, 검색에 실패하는 경우 정렬이 되어있지 않는 경우보다 비교 횟수가 적다."
   ]
  },
  {
   "cell_type": "markdown",
   "metadata": {},
   "source": [
    "### 2. 이진 검색(Binary Search)\n",
    "- 자료가 정렬된 상태에서 활용가능한 검색방법으로 자료의 가운데에 있는 항목의 키 값과 비교하여 다음 검색의 위치를 결정하고 검색을 계속 진행하는 방법이다.\n",
    "- 즉, 중앙의 원소를 고르고 이를 찾고자 하는 값과 비교하여 좌측을 이어서 검색할지, 우측을 검색할지 선택한다. (정렬되어있어야 가능한 방법인 이유, quick_sort의 매커니즘과 비슷!)"
   ]
  },
  {
   "cell_type": "code",
   "execution_count": null,
   "metadata": {},
   "outputs": [],
   "source": [
    "# 이진 검색(Binary Search) 알고리즘\n",
    "def binarySearch(arr, N, key): # arr: 배열, N : size, key :찾고자 하는 값\n",
    "    start = 0\n",
    "    end = N-1\n",
    "    while start <= end: # 검색 구간이 유효하면 반복\n",
    "        middle  = (start+end) // 2\n",
    "        if arr[middle] == key: #우연하게 중앙값이 목표와 같다면\n",
    "            return True #혹은 return middle\n",
    "        elif arr[middle] > key:\n",
    "            end = middle - 1 #목표값보다 중앙값이 크면, 우측을 버린다. (end수정)\n",
    "        else:\n",
    "            start = middle + 1 #목표값보다 중앙값이 작으면 좌측을 버린다. (start수정)\n",
    "    return False #못찾은 경우"
   ]
  },
  {
   "cell_type": "markdown",
   "metadata": {},
   "source": [
    "## 배열을 사용한 인덱스\n",
    "- 대량의 데이터를 매번 정렬한다면, 속도가 느려진다. 이를 해결하기 위해 배열 인덱스를 사용할 수 있다.\n",
    "\n",
    "### 선택 정렬 (Selection Sort)\n",
    "- 가장 작은 값의 원소부터 차례대로 선택하여 위치를 교환하는 방식\n",
    "- 최소값을 찾고 이를 맨앞의 원소와 교환한다. 맨 처음 위치를 제외한 리스트에서 이 과정을 반복한다."
   ]
  },
  {
   "cell_type": "code",
   "execution_count": null,
   "metadata": {},
   "outputs": [],
   "source": [
    "def selectionSort(arr, N):\n",
    "    for i in range(N-1):\n",
    "        min_index = i\n",
    "        for j in range(i+1, N):\n",
    "            if arr[min_index] > arr[j]:\n",
    "                min_index = j\n",
    "        arr[i], arr[min_index] = arr[min_index], arr[i]"
   ]
  },
  {
   "cell_type": "markdown",
   "metadata": {},
   "source": [
    "### Selection Algorithm\n",
    "- 저장되어 있는 자료로부터 k번째로 크거나 작은 자료를 찾는 과정\n",
    "- k번째로 작은 값을 찾는다고 상황을 가정한다면, 1번부터 k번째까지 작은 원소들을 찾고 k번째를 반환한다.\n",
    "- k가 작을 때 유용하다 (O(kn))"
   ]
  },
  {
   "cell_type": "code",
   "execution_count": null,
   "metadata": {},
   "outputs": [],
   "source": [
    "def selection_sort(arr, N):\n",
    "    for i in range(N-1):\n",
    "        min_index = i\n",
    "        for j in range(i+1, N):\n",
    "            if arr[min_index] > arr[j]:\n",
    "                min_index = j\n",
    "        arr[i], arr[min_index] = arr[min_index], arr[i]"
   ]
  }
 ],
 "metadata": {
  "language_info": {
   "name": "python"
  }
 },
 "nbformat": 4,
 "nbformat_minor": 2
}
