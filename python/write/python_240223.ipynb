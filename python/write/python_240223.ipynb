{
 "cells": [
  {
   "cell_type": "markdown",
   "metadata": {},
   "source": [
    "# 비트연산\n",
    "\n",
    "## 비트와 바이트\n",
    "- 1bit : 0과 1을 표현하는 정보의 단위\n",
    "- 1Byte : 8bit를 묶어 1Byte라고 한다.\n",
    "\n",
    "## 비트연산자\n",
    "- AND &\n",
    "둘다 1일때 1\n",
    "- OR |\n",
    "하나만 1이여도 1\n",
    "\n",
    "> 7 & 5 = 111(2) & 101(2) = 101(2) = 5\n",
    "\n",
    "> 7 | 5 = 111(2) | 101(2) = 111(2) = 7\n",
    "\n",
    "- 2진수, 16진수, 10진수 ... 진수표현\n",
    "\n",
    "> bin(num) : num을 2진수로 ('0b...')\n",
    "\n",
    "> hex(num) : num을 16진수로 ('0x...')\n",
    "\n",
    "> int('1011',2) = 2진수을 10진수로 ... 11출력\n",
    "\n",
    "> int('b',16) = 16진수를 10진수로 ... 11출력\n"
   ]
  },
  {
   "cell_type": "code",
   "execution_count": 9,
   "metadata": {},
   "outputs": [
    {
     "name": "stdout",
     "output_type": "stream",
     "text": [
      "26\n",
      "1211\n",
      "1187\n",
      "0b1010\n",
      "0xa\n",
      "\n",
      "11\n",
      "11\n"
     ]
    }
   ],
   "source": [
    "print(0b11011110 & 0b11011) # 0b11010\n",
    "print(0x4A3|25)\n",
    "print()\n",
    "print(bin(10))\n",
    "print(hex(10))\n",
    "print()\n",
    "print(int('1011',2))\n",
    "print(int('b',16))"
   ]
  },
  {
   "cell_type": "markdown",
   "metadata": {},
   "source": [
    "- XOR연산자 (^) (***같으면 0, 다르면 1***)\n",
    "> 어떤 값이던 임의의 수로 2회 XOR 연산을 진행하면 원래의 수로 돌아온다. 이를 암호화에 활용 가능"
   ]
  },
  {
   "cell_type": "code",
   "execution_count": 10,
   "metadata": {},
   "outputs": [
    {
     "name": "stdout",
     "output_type": "stream",
     "text": [
      "7070\n"
     ]
    }
   ],
   "source": [
    "print((7070^1004)^1004)"
   ]
  },
  {
   "cell_type": "code",
   "execution_count": 13,
   "metadata": {},
   "outputs": [
    {
     "name": "stdout",
     "output_type": "stream",
     "text": [
      "incoding 4\n",
      "decoding 1000\n"
     ]
    }
   ],
   "source": [
    "# 수를 암호화하는 프로그램 제작\n",
    "secret_code = 1004\n",
    "def incoding_decoding(num):\n",
    "    num = num^secret_code\n",
    "    return num\n",
    "\n",
    "a = incoding_decoding(1000)\n",
    "b = incoding_decoding(a)\n",
    "print('incoding',a)\n",
    "print('decoding',b)\n"
   ]
  },
  {
   "cell_type": "markdown",
   "metadata": {},
   "source": [
    "- Left Shift (<<)\n",
    "비트를 왼쪽으로 밀어낸다. (우측에 0생성)\n",
    "- Right Shift (>>)\n",
    "비트를 오른쪽으로 밀어낸다. (우측 비트들 제거)\n",
    "```python\n",
    "print(bin(0b01101<<2))\n",
    "# 0b110100\n",
    "print(bin(0b1101>>2))\n",
    "# 0b11\n",
    "```"
   ]
  },
  {
   "cell_type": "code",
   "execution_count": 16,
   "metadata": {},
   "outputs": [
    {
     "name": "stdout",
     "output_type": "stream",
     "text": [
      "0b1 1\n",
      "0b10 2\n",
      "0b100 4\n",
      "0b1000 8\n",
      "0b10000 16\n"
     ]
    }
   ],
   "source": [
    "# Left_Shift 예시\n",
    "def binary_LeftShift(loop, num):\n",
    "    for k in range(loop):\n",
    "        print(bin(num),num)\n",
    "        num = num<<1\n",
    "    return\n",
    "\n",
    "binary_LeftShift(5,0b1)\n",
    "\n",
    "'''\n",
    "위 식을 활용하면 2의 n승 값을 구할 수 있다.\n",
    "'''"
   ]
  },
  {
   "cell_type": "markdown",
   "metadata": {},
   "source": [
    "## 비트연산의 응용\n",
    "- 2의 n승\n",
    "- i & (1<<n)\n",
    "    - i의 n번 비트가 1인지 아닌지 확인할 수 있다.\n",
    "        - 우선 1<<n을 하면 100, 1000 꼴로 나온다.\n",
    "        - 이를 AND 연산하면 비트가 1인지 0인지 확인할 수 있다.\n",
    "\n",
    "## 음의 표현 방법\n",
    "- 컴퓨터는 음수를 '2의 보수'로 관리한다.\n",
    "- 맨 앞자리 bit(MSB)는 음수 양수를 구분하는 비트다. 1은 음수, 0은 양수\n",
    "\n",
    "### 2의 보수 예\n",
    "- 10001 의 2의 보수\n",
    "    - 수를 모두 뒤집고 +1을 한다.\n",
    "        - 01110 + 1 ... 01111\n",
    "- 1111000 의 2의 보수\n",
    "    - 0000111\n",
    "    - 0001000\n",
    "\n",
    "- -5를 2의 보수로 표현\n",
    "    1. 00000101 (10진수로 5)\n",
    "    2. 11111011 (보수로 만들고 1 더하기)\n",
    "\n",
    "## NOT 연산자 (~)\n",
    "- 모든 비트를 뒤집는다.\n",
    "```\n",
    "4 (0b0100)\n",
    "4에 ~을 연산시키면\n",
    "0b1011로 뒤집는다. (MSB = 1, 나머지 bit = 011)\n",
    "나머지 bit에 대해 2의 보수를 취하면 101이므로 5가된다.\n",
    "따라서 print(~4) = -5\n",
    "```"
   ]
  },
  {
   "cell_type": "code",
   "execution_count": 33,
   "metadata": {},
   "outputs": [
    {
     "name": "stdout",
     "output_type": "stream",
     "text": [
      "ON\n"
     ]
    }
   ],
   "source": [
    "# SWEA 10726 이진수표현\n",
    "T = int(input())\n",
    "for tc in range(1,T+1):\n",
    "    N, M = map(int,input().split())\n",
    "    '''\n",
    "    정수 N, M 이 주어질 때, \n",
    "    M의 이진수 표현의 마지막 N 비트가 모두 1로 켜져 있는지 아닌지를 판별하여 출력하라.\n",
    "    '''\n",
    "    for_result = '1' * N\n",
    "    pivot = int(for_result,2)\n",
    "    if M & pivot == pivot:\n",
    "        print(f\"#{tc} ON\")\n",
    "    else:\n",
    "        print(f\"#{tc} OFF\")"
   ]
  },
  {
   "cell_type": "code",
   "execution_count": 31,
   "metadata": {},
   "outputs": [
    {
     "name": "stdout",
     "output_type": "stream",
     "text": [
      "True\n"
     ]
    }
   ],
   "source": [
    "N, M = 5, 31\n",
    "def TEST():\n",
    "    tar = M\n",
    "    for i in range(N):\n",
    "        if tar & 0x1 == 0:\n",
    "            return False\n",
    "        tar = tar >> 1\n",
    "    return True\n",
    "print(TEST())"
   ]
  },
  {
   "cell_type": "markdown",
   "metadata": {},
   "source": [
    "# f-string\n",
    "\n",
    "## 소수점 출력\n",
    "- {float:.2f} : float값을 소수점 둘째자리깍지 반올림하여 표현"
   ]
  },
  {
   "cell_type": "markdown",
   "metadata": {},
   "source": [
    "컴퓨터는 실수를 내부적으로 근사적으로 관리하기에 오차가 발생할 수 있다.\n",
    "\n",
    "print(0.1 + 0.1 + 0.1 == 0.3) # False"
   ]
  }
 ],
 "metadata": {
  "kernelspec": {
   "display_name": "Python 3",
   "language": "python",
   "name": "python3"
  },
  "language_info": {
   "codemirror_mode": {
    "name": "ipython",
    "version": 3
   },
   "file_extension": ".py",
   "mimetype": "text/x-python",
   "name": "python",
   "nbconvert_exporter": "python",
   "pygments_lexer": "ipython3",
   "version": "3.9.13"
  }
 },
 "nbformat": 4,
 "nbformat_minor": 2
}
