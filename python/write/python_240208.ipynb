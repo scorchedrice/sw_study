{
 "cells": [
  {
   "cell_type": "markdown",
   "metadata": {},
   "source": [
    "# DP (Dynamic Programming)\n",
    "- 작은 부분을 해결하고 이를 통해 문제를 해결하는 과정\n",
    "\n",
    "### 재귀함수의 한계\n",
    "- 반복하는 횟수가 생각보다 깊지 않다.\n",
    "- 불필요한 연산이 반복될 수 있다.\n",
    "- 따라서 Memoization 활용 시 재귀를 사용하기보단 반복문을 활용하는 것이 더 효율적이다.\n",
    "\n",
    "# DFS (깊이 우선 탐색)\n",
    "- 비선형구조인 그래프구조는 그래프로 표현된 모든 자료를 빠짐없이 검색하는 것이 중요.\n",
    "- stack을 활용할 수 있지만 사용하지 않고 하는 것이 많음\n",
    "- 시작 정점의 한 방향으로 갈 수 있는 경로가 있는 곳까지 깊이 탐색해 가다가 더 이상 갈 곳이 없게 되면, 가장 마지막에 만났던 갈림길 간선이 잇는 정점으로 되돌아와서 다른 방향의 정점으로 탐색을 계속 반복하여 결국 모든 정점을 반복하는 순회방법\n",
    "- 가장 마지막에 만났던 갈림길의 정점으로 되돌아가서 다시 DFS를 반복해야 하므로 후입선출 구조의 스택 사용\n",
    "\n",
    "## DFS 알고리즘\n",
    "1. 시작 정점 (V) 를 결정하여 방문\n",
    "2. 정점 (V) 에 인접한 정점중에서\n",
    "  1. 방문하지 않은 정점 (W)가 있으면 정점 (V)를 스택에 push하고 정점 W를 방문한다. 2를 반복한다.\n",
    "  2. 더이상 갈 곳이 없으면 pop하고 되돌아간다.\n",
    "\n",
    "# DFS 개념 다시 보기"
   ]
  },
  {
   "cell_type": "code",
   "execution_count": 14,
   "metadata": {},
   "outputs": [
    {
     "name": "stdout",
     "output_type": "stream",
     "text": [
      "1\n",
      "6\n"
     ]
    }
   ],
   "source": [
    "# SWEA d3_4871.py\n",
    "V, E = 6, 5 # V : 5이상 50이하, E : 4이상 1000이하\n",
    "# V : 방문 장소, E : E개의 연결 고리\n",
    "def dfs(start, n): #시작과 방문해야 하는 정점의 수\n",
    "    visited = [0]*(V+1)\n",
    "    stack = []\n",
    "    visited[start] = 1 # 시작지점 방문, 방문 표시\n",
    "    while True: # 탐색 시작\n",
    "        # 현재 방문한 정점에 인접하고 방문안한 정점이 있으면\n",
    "        for w in my_graph_info[i]:\n",
    "            if visited[w] == 0: #해당 좌표가 이동 가능하다면\n",
    "                stack += [w] # push\n",
    "                start = w\n",
    "                visited[start] = 1\n",
    "                print(start)\n",
    "                break\n",
    "        else: # start에 (옮긴 자리에) 인접 정점이 없다면\n",
    "            if stack != []: # 스택이 비어있지 않다면\n",
    "                start = stack.pop()\n",
    "            else: # 스택이 비어있는 경우 (현 위치 start)\n",
    "                break\n",
    "    return\n",
    "\n",
    "    # visited, stack 생성 및 초기화\n",
    "\n",
    "check_list = [0]*(V+1)\n",
    "\n",
    "# i번 행에 i와 인접한 정보들을 저장\n",
    "#graph_info = list(map(int, input().split()))\n",
    "graph_info = [1,4,1,3,2,3,2,5,4,6]\n",
    "\n",
    "my_graph_info = [[] for _ in range(V+1)] # _번(index) 방과 연결된 정보를 저장하기 위해\n",
    "\n",
    "for i in range(E):\n",
    "    n1, n2 = graph_info[i*2], graph_info[i*2+1] #두개씩 나오고 앞에 있는 번호가 해당 번호와 연결되었다는 정보를 담고 있으므로\n",
    "    my_graph_info[n1] += [n2]\n",
    "    my_graph_info[n2] += [n1] #방향성 고려\n",
    "\n",
    "dfs(4,V)"
   ]
  }
 ],
 "metadata": {
  "kernelspec": {
   "display_name": "Python 3",
   "language": "python",
   "name": "python3"
  },
  "language_info": {
   "codemirror_mode": {
    "name": "ipython",
    "version": 3
   },
   "file_extension": ".py",
   "mimetype": "text/x-python",
   "name": "python",
   "nbconvert_exporter": "python",
   "pygments_lexer": "ipython3",
   "version": "3.9.13"
  }
 },
 "nbformat": 4,
 "nbformat_minor": 2
}
