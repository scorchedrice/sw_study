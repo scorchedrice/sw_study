{
 "cells": [
  {
   "cell_type": "markdown",
   "metadata": {},
   "source": [
    "6019. 기차 사이의 파리\n",
    "16910. 원안의 점"
   ]
  },
  {
   "cell_type": "code",
   "execution_count": null,
   "metadata": {},
   "outputs": [],
   "source": [
    "# 기차사이의 파리 (6019)\n",
    "T = int(input())\n",
    "for tc in range(1,T+1):\n",
    "    distance, train_a, train_b, fly = map(int,input().split())\n",
    "    fly_distance = distance * fly / (train_a + train_b)\n",
    "    print(f\"#{tc} {fly_distance}\")\n",
    "\n",
    "'''\n",
    "이 문제의 핵심!\n",
    "오차를 줄이기 위해선 큰 수로 곱하는 과정을 먼저 하는 것이 좋다.\n",
    "나눗셈을 우선적으로 한다면, python의 특징인 소수점이 모두 표현되지 않는다는 점 때문에\n",
    "곱 하고 나누기 하는 것이 오차를 줄이는 데 유용\n",
    "'''"
   ]
  },
  {
   "cell_type": "code",
   "execution_count": 1,
   "metadata": {},
   "outputs": [
    {
     "name": "stdout",
     "output_type": "stream",
     "text": [
      "5\n",
      "317\n",
      "31417\n"
     ]
    }
   ],
   "source": [
    "# 원 안의 점 (16910)\n",
    "T = int(input())\n",
    "for tc in range(1,T+1):\n",
    "    r = int(input())\n",
    "    # 반지름\n",
    "    '''\n",
    "    확인 할 격자점\n",
    "    i범위 : -r ~ r\n",
    "    j범위 : -r ~ r\n",
    "    '''\n",
    "    cnt = 0\n",
    "    for i in range(-r,r+1):\n",
    "        for j in range(-r,r+1):\n",
    "            if (i**2 + j**2) <= r**2:\n",
    "                cnt += 1\n",
    "    print(f\"#{tc} {cnt}\")\n",
    "'''\n",
    "이 문제의 핵심.\n",
    "sqrt를 씌워야 하는 경우, 이 연산을 수행하는 시간은 오래걸리기에\n",
    "양쪽에 제곱을 씌우는 형식으로 연산을 진행하는 것이 시간 단축에 도움\n",
    "'''"
   ]
  }
 ],
 "metadata": {
  "kernelspec": {
   "display_name": "Python 3",
   "language": "python",
   "name": "python3"
  },
  "language_info": {
   "codemirror_mode": {
    "name": "ipython",
    "version": 3
   },
   "file_extension": ".py",
   "mimetype": "text/x-python",
   "name": "python",
   "nbconvert_exporter": "python",
   "pygments_lexer": "ipython3",
   "version": "3.11.8"
  }
 },
 "nbformat": 4,
 "nbformat_minor": 2
}
