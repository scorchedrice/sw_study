{
 "cells": [
  {
   "cell_type": "markdown",
   "metadata": {},
   "source": [
    "# BFS\n",
    "- 스터디 자료 참고 (chap5)\n",
    "- 주로 BFS는 큐를 활용하고 DFS는 스택을 활용하지만 단정할 순 없다. 매커니즘의 차이\n",
    "- 최단경로, 비상연락망 등의 문제에 활용 가능\n",
    "\n"
   ]
  }
 ],
 "metadata": {
  "language_info": {
   "name": "python"
  }
 },
 "nbformat": 4,
 "nbformat_minor": 2
}
