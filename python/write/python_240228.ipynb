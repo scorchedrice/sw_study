{
 "cells": [
  {
   "cell_type": "markdown",
   "metadata": {},
   "source": [
    "# 부분 집합\n",
    "- 완전탐색, 트리, 재귀를 활용해 구현 가능\n",
    "- 더불어 Binary Counting (비트연산)으로 구현 가능"
   ]
  },
  {
   "cell_type": "code",
   "execution_count": 3,
   "metadata": {},
   "outputs": [
    {
     "name": "stdout",
     "output_type": "stream",
     "text": [
      "[['MIN', 'CO', 'TIM'], ['MIN', 'CO'], ['MIN', 'TIM'], ['MIN'], ['CO', 'TIM'], ['CO'], ['TIM'], []]\n"
     ]
    }
   ],
   "source": [
    "# 완전탐색, 재귀를 활용한 함께 갈 친구 리스트 형성\n",
    "friend = ['MIN', 'CO', 'TIM']\n",
    "\n",
    "def dfs(n,lst):\n",
    "    if n == 3:\n",
    "        ans.append(lst)\n",
    "        return\n",
    "    dfs(n+1, lst+[friend[n]])\n",
    "    dfs(n+1, lst)    \n",
    "\n",
    "ans = []\n",
    "dfs(0,[])\n",
    "print(ans)"
   ]
  },
  {
   "cell_type": "code",
   "execution_count": 12,
   "metadata": {},
   "outputs": [
    {
     "name": "stdout",
     "output_type": "stream",
     "text": [
      "26\n"
     ]
    }
   ],
   "source": [
    "# Binary Counting\n",
    "# 2명 이상의 친구 조합 개수 세기\n",
    "friend = ['A', 'B', 'C', 'D', 'E']\n",
    "num_friend = len(friend)\n",
    "def binary(arr):\n",
    "    result = 0\n",
    "    for i in range(1<<num_friend):\n",
    "        memory = []\n",
    "        for j in range(num_friend):\n",
    "            if i & (1<<j):\n",
    "                memory += [arr[j]]\n",
    "        if len(memory) >= 2:\n",
    "            result += 1\n",
    "    return result\n",
    "\n",
    "print(binary(friend))"
   ]
  }
 ],
 "metadata": {
  "kernelspec": {
   "display_name": "Python 3",
   "language": "python",
   "name": "python3"
  },
  "language_info": {
   "codemirror_mode": {
    "name": "ipython",
    "version": 3
   },
   "file_extension": ".py",
   "mimetype": "text/x-python",
   "name": "python",
   "nbconvert_exporter": "python",
   "pygments_lexer": "ipython3",
   "version": "3.11.8"
  }
 },
 "nbformat": 4,
 "nbformat_minor": 2
}
