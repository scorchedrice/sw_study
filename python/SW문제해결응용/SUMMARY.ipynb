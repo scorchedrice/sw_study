{
 "cells": [
  {
   "cell_type": "code",
   "execution_count": 2,
   "metadata": {},
   "outputs": [
    {
     "name": "stdout",
     "output_type": "stream",
     "text": [
      "[0, 2, 3, 9, 6, 10]\n"
     ]
    }
   ],
   "source": [
    "# Dijkstra\n",
    "\n",
    "'''\n",
    "5 8\n",
    "0 1 2\n",
    "0 2 4\n",
    "1 2 1\n",
    "1 3 7\n",
    "2 4 3\n",
    "3 4 2\n",
    "3 5 1\n",
    "4 5 5\n",
    "'''\n",
    "import heapq\n",
    "\n",
    "# 2) 함수 정의 과정\n",
    "def Dijkstra(start):\n",
    "    # 2-1) 초기값 설정 : dist 수정 및 우선순위 큐 초기셋팅\n",
    "    PQ = []\n",
    "    heapq.heappush(PQ, (0,start))\n",
    "    dist[start] = 0\n",
    "    \n",
    "    # 2-2) 반복문 설정\n",
    "    while PQ: # PQ가 비면 while문 종료\n",
    "        # 우선순위 큐에서 거리정보와 해당 노드를 추출한다.\n",
    "        d, node = heapq.heappop(PQ)\n",
    "        # 만약 해당 노드의 거리정보가 dist lst의 해당노드값보다 크다면, \n",
    "            # 더 작은 값이 이전에 연산되어있다는 의미이므로 continue\n",
    "        if d > dist[node]:\n",
    "            continue\n",
    "        # 해당 노드의 인접 노드를 확인하는 과정 진행\n",
    "        for near_info in matrix[node]:\n",
    "            near_d = near_info[1]\n",
    "            near_node = near_info[0]\n",
    "            # 해당 노드를 경유해서 인접 노드로 가는 것과\n",
    "                # 인접 노드로 바로 가는 것 비교해서 더 효율적인 거리 정보 갱신\n",
    "            check_d = d + near_d # 경유해서 가는 경유\n",
    "            if check_d < dist[near_node]: # 만약 경유해서 가는 것이 이득이라면\n",
    "                dist[near_node] = check_d # 거리 정보 갱신\n",
    "                heapq.heappush(PQ,(check_d, near_node))\n",
    "                # 해당 예시에서는 가격, 노드 순으로 우선순위 큐를 만들었음.\n",
    "                # idx 설정에 주의하기\n",
    "\n",
    "# 1. 거리의 정보를 담은 dist 생성, 인접 리스트 생성(간선정보 반영)\n",
    "V, E = map(int,input().split())\n",
    "# 1-1) 인접리스트 생성\n",
    "matrix = [[] for _ in range(V+1)]\n",
    "# 1-2) dist lst 생성 (INF로 초기설정)\n",
    "for _ in range(E):\n",
    "    start, end, cost = map(int,input().split())\n",
    "    matrix[start].append((end, cost))\n",
    "    # 도착 위치와 비용을 append\n",
    "INF = 987654321\n",
    "dist = [INF] * (V+1)\n",
    "\n",
    "# 0번에서 시작하는 거리 정보 리스트 출력\n",
    "Dijkstra(0)\n",
    "print(dist)"
   ]
  },
  {
   "cell_type": "code",
   "execution_count": 7,
   "metadata": {},
   "outputs": [
    {
     "name": "stdout",
     "output_type": "stream",
     "text": [
      "175\n"
     ]
    }
   ],
   "source": [
    "# Prim\n",
    "'''\n",
    "7 11\n",
    "0 1 32\n",
    "0 2 31\n",
    "0 5 60\n",
    "0 6 51\n",
    "1 2 21\n",
    "2 4 46\n",
    "2 6 25\n",
    "3 4 34\n",
    "3 5 18\n",
    "4 5 40\n",
    "4 6 51\n",
    "'''\n",
    "from heapq import heappop, heappush\n",
    "def prim(start):\n",
    "    Q = []\n",
    "    weight = 0 # 가중치 연산 변수 설정\n",
    "    heappush(Q, (0,start)) # 우선순위 큐 생성 및 초기설정\n",
    "    visited = [0] * V\n",
    "    while Q:\n",
    "        cost,current = heappop(Q) # 우선순위 팝 => 추출\n",
    "        if visited[current] == 0: # 방문기록 없으면 기록 후 가중치 계산\n",
    "            visited[current] = 1\n",
    "            weight += cost\n",
    "        else:\n",
    "            continue\n",
    "\n",
    "        for nxt in range(V):\n",
    "            if matrix[current][nxt] == 0: # 해당 위치로 갈 수 없다면\n",
    "                continue\n",
    "            if visited[nxt] == 1: # 방문 한 기록이 있어 갈 수 없다면\n",
    "                continue\n",
    "            heappush(Q,(matrix[current][nxt],nxt))\n",
    "    return weight\n",
    "\n",
    "V, E = map(int,input().split())\n",
    "matrix = [[0] * V for _ in range(V)]\n",
    "for k in range(E):\n",
    "    s,e,w = map(int,input().split())\n",
    "    matrix[s][e] = w\n",
    "    matrix[e][s] = w\n",
    "\n",
    "result = prim(0)\n",
    "print(result)"
   ]
  }
 ],
 "metadata": {
  "kernelspec": {
   "display_name": "Python 3",
   "language": "python",
   "name": "python3"
  },
  "language_info": {
   "codemirror_mode": {
    "name": "ipython",
    "version": 3
   },
   "file_extension": ".py",
   "mimetype": "text/x-python",
   "name": "python",
   "nbconvert_exporter": "python",
   "pygments_lexer": "ipython3",
   "version": "3.9.13"
  }
 },
 "nbformat": 4,
 "nbformat_minor": 2
}
