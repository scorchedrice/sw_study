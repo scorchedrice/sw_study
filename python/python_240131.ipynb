{
 "cells": [
  {
   "cell_type": "markdown",
   "metadata": {},
   "source": [
    "# 240131 - Array2\n",
    "- 리스트로 구성된 리스트로 배열을 만든다\n",
    "- array_example = [list(map(int, input().split())) for _ in range(N)]\n",
    "- array_zero_NxN = [[0]*N for _ in range(N)]\n"
   ]
  }
 ],
 "metadata": {
  "language_info": {
   "name": "python"
  }
 },
 "nbformat": 4,
 "nbformat_minor": 2
}
