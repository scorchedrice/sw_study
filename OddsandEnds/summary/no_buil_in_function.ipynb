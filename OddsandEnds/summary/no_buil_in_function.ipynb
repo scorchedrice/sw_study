{
 "cells": [
  {
   "cell_type": "markdown",
   "metadata": {},
   "source": [
    "# No Built-in! (min, max, len, count ...)"
   ]
  },
  {
   "cell_type": "markdown",
   "metadata": {},
   "source": [
    "## min, max\n",
    "- for 문을 사용한다.\n",
    "- 임의의 값을 min 혹은 max로 임의로 정하고 이를 index별 숫자와 비교하며 구한다."
   ]
  },
  {
   "cell_type": "code",
   "execution_count": 2,
   "metadata": {},
   "outputs": [
    {
     "name": "stdout",
     "output_type": "stream",
     "text": [
      "max: 90\n",
      "min: 30\n"
     ]
    }
   ],
   "source": [
    "scores1 = [30, 60, 90, 70]\n",
    "def max_score(num_list):\n",
    "    max_value = num_list[0] # 임의의 max 값\n",
    "    for num in num_list:\n",
    "        if num > max_value:\n",
    "            max_value = num\n",
    "    return max_value\n",
    "\n",
    "def min_score(num_list):\n",
    "    min_value = num_list[0] # 임의의 min 값\n",
    "    for num in num_list:\n",
    "        if num < min_value:\n",
    "            min_value = num\n",
    "    return min_value\n",
    "\n",
    "print('max:',max_score(scores1))\n",
    "print('min:',min_score(scores1))"
   ]
  },
  {
   "cell_type": "markdown",
   "metadata": {},
   "source": [
    "## sort, 리스트 중 몇번째로 큰 값 찾기\n",
    "- for을 사용한다.\n",
    "- 최소값, 혹은 최대값을 구하고 이를 활용해서 구한다."
   ]
  },
  {
   "cell_type": "code",
   "execution_count": 3,
   "metadata": {},
   "outputs": [
    {
     "name": "stdout",
     "output_type": "stream",
     "text": [
      "[22, 38, 65, 68, 69, 72, 80, 85, 96]\n"
     ]
    }
   ],
   "source": [
    "# sort!\n",
    "num_list = [85, 72, 38, 80, 69, 65, 68, 96, 22]\n",
    "\n",
    "# 위에서 구한 min_value 함수 활용해 sort하는 과정\n",
    "def sort_func(num_list):\n",
    "    sort_list = [] # sort된 리스트를 담을 리스트\n",
    "    for i in range(0, len(num_list)):\n",
    "        sort_list += [min_score(num_list)] #최소값을 sort리스트에 담고\n",
    "        num_list.remove(min_score(num_list)) #sort리스트에 담은 수를 기존 리스트에서 제거\n",
    "    return sort_list # 이를 반복하면 sort_list가 완성된다.\n",
    "sorted_list = sort_func(num_list)\n",
    "print(sorted_list) # sort된 리스트"
   ]
  },
  {
   "cell_type": "code",
   "execution_count": null,
   "metadata": {},
   "outputs": [],
   "source": [
    "# 몇번째 값이 무엇인가?\n",
    "# 위와 같이 sort한 후 index를 구하여 값 도출"
   ]
  },
  {
   "cell_type": "markdown",
   "metadata": {},
   "source": [
    "## reverse\n",
    "- 기존 리스트와 동일한 길이를 가진 리스트를 임의로 생성하고 이를 for을 활용해 치환한다."
   ]
  },
  {
   "cell_type": "code",
   "execution_count": 5,
   "metadata": {},
   "outputs": [
    {
     "name": "stdout",
     "output_type": "stream",
     "text": [
      "[22, 96, 68, 65, 69, 80, 38, 72, 85]\n"
     ]
    }
   ],
   "source": [
    "def my_reverse(num_list):\n",
    "    my_list = [0]*len(num_list) # 0으로 구성된 list 생성\n",
    "    for i in range(0,len(num_list)):\n",
    "        my_list[i] = num_list[(-1-i)]\n",
    "    return my_list\n",
    "num_list = [85, 72, 38, 80, 69, 65, 68, 96, 22]\n",
    "print(my_reverse(num_list))"
   ]
  },
  {
   "cell_type": "markdown",
   "metadata": {},
   "source": [
    "## len"
   ]
  },
  {
   "cell_type": "code",
   "execution_count": 6,
   "metadata": {},
   "outputs": [
    {
     "name": "stdout",
     "output_type": "stream",
     "text": [
      "9\n"
     ]
    }
   ],
   "source": [
    "def my_len(num_list):\n",
    "    len = 0\n",
    "    for index in num_list:\n",
    "        len += 1\n",
    "    return len\n",
    "num_list = [85, 72, 38, 80, 69, 65, 68, 96, 22]\n",
    "print(my_len(num_list))"
   ]
  },
  {
   "cell_type": "markdown",
   "metadata": {},
   "source": [
    "##  Target number의 빈도수, index (count, find)"
   ]
  },
  {
   "cell_type": "code",
   "execution_count": 8,
   "metadata": {},
   "outputs": [
    {
     "name": "stdout",
     "output_type": "stream",
     "text": [
      "[1, 6, 7, 8]\n"
     ]
    }
   ],
   "source": [
    "# index 추출하기, 8이 target\n",
    "num_list = [10, 8, 7, 2, 2, 4, 8, 8, 8, 9, 5, 5, 3]\n",
    "def my_index(num_list, target_num):\n",
    "    where_num = []\n",
    "    for index in range(0,len(num_list)):\n",
    "        if num_list[index] == target_num:\n",
    "            where_num.append(index)\n",
    "    return where_num\n",
    "print(my_index(num_list, 8)) # 8(target number)이 존재하는 num_list의 index"
   ]
  },
  {
   "cell_type": "code",
   "execution_count": 9,
   "metadata": {},
   "outputs": [
    {
     "name": "stdout",
     "output_type": "stream",
     "text": [
      "4\n"
     ]
    }
   ],
   "source": [
    "# 빈도수 구하기, 8이 target\n",
    "num_list = [10, 8, 7, 2, 2, 4, 8, 8, 8, 9, 5, 5, 3]\n",
    "def count_num(num_list, target_num):\n",
    "    count = 0\n",
    "    for num in num_list:\n",
    "        if target_num == num:\n",
    "            count += 1\n",
    "    return count\n",
    "print(count_num(num_list, 8)) # 몇번 나오냐"
   ]
  },
  {
   "cell_type": "markdown",
   "metadata": {},
   "source": [
    "## list에서 가장 많이 나오는 수 찾기\n",
    "- list를 sort하고 이를 같은 숫자끼리 grouping한 새로운 리스트 정의\n",
    "- 새로운 리스트 각 index에 있는 리스트의 길이들을 구하고 최대가 무엇인지 구한다."
   ]
  },
  {
   "cell_type": "code",
   "execution_count": 11,
   "metadata": {},
   "outputs": [
    {
     "name": "stdout",
     "output_type": "stream",
     "text": [
      "8\n"
     ]
    }
   ],
   "source": [
    "num_list = [10, 8, 7, 2, 2, 4, 8, 8, 8, 9, 5, 5, 3]\n",
    "num_list.sort()\n",
    "\n",
    "def bin_list(num_list):\n",
    "    total_group = [] # grouping 한 리스트를 담아내는 리스트\n",
    "    start_group = [num_list[0]] # 리스트 안의 리스트 초기 상태 정의\n",
    "    for i in range(1,len(num_list)):\n",
    "        if num_list[i] == num_list[i-1]:\n",
    "            start_group = start_group + [num_list[i]] # 같다면 리스트 안의 리스트 확장\n",
    "        else: # 같지 않다면 리스트 안의 리스트를 total에 넣어 확장, 이후 재개\n",
    "            total_group = total_group + [start_group] \n",
    "            start_group = [num_list[i]]\n",
    "    max_value = len(total_group[0]) # grouping 한 리스트 내 리스트의 최대를 구하기 위해\n",
    "    for j in range(0, len(total_group)):\n",
    "        if max_value < len(total_group[j]):\n",
    "            max_value = len(total_group[j])\n",
    "\n",
    "    for k in range(0, len(total_group)):\n",
    "        if max_value == len(total_group[k]): # 최대 길이를 가지는 리스트 안의 리스트의 원소\n",
    "            return total_group[k][0]\n",
    "\n",
    "print(bin_list(num_list))"
   ]
  },
  {
   "cell_type": "markdown",
   "metadata": {},
   "source": [
    "## sum"
   ]
  },
  {
   "cell_type": "code",
   "execution_count": 12,
   "metadata": {},
   "outputs": [
    {
     "name": "stdout",
     "output_type": "stream",
     "text": [
      "21\n"
     ]
    }
   ],
   "source": [
    "plus_list = [1,2,3,4,5,6]\n",
    "def my_sum(my_list):\n",
    "    ans = 0\n",
    "    for num in my_list:\n",
    "        ans = ans + num\n",
    "    return ans\n",
    "print(my_sum(plus_list))\n"
   ]
  }
 ],
 "metadata": {
  "kernelspec": {
   "display_name": "Python 3",
   "language": "python",
   "name": "python3"
  },
  "language_info": {
   "codemirror_mode": {
    "name": "ipython",
    "version": 3
   },
   "file_extension": ".py",
   "mimetype": "text/x-python",
   "name": "python",
   "nbconvert_exporter": "python",
   "pygments_lexer": "ipython3",
   "version": "3.9.13"
  }
 },
 "nbformat": 4,
 "nbformat_minor": 2
}
