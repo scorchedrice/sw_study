{
 "cells": [
  {
   "cell_type": "code",
   "execution_count": 1,
   "metadata": {},
   "outputs": [
    {
     "name": "stdout",
     "output_type": "stream",
     "text": [
      "[[1, 2], [1, 3], [2, 3], [1, 4], [2, 4], [3, 4]]\n"
     ]
    }
   ],
   "source": [
    "# 부분집합 구하는 함수 ! - Bit 연산 활용\n",
    "def cal_subset(arr,n):\n",
    "    subset_list = [] # 구한 부분집합을 담을 빈 리스트\n",
    "    for i in range(1<<len(arr)): # 부분집합을 추출할 리스트의 개수\n",
    "        mid_subset = [] # 부분집합을 담기 위한 중간단계 역할을 할 빈 리스트\n",
    "        for j in range(len(arr)):\n",
    "            if i & (1<<j):\n",
    "                mid_subset += [arr[j]]\n",
    "        if len(mid_subset) == n:\n",
    "            subset_list += [mid_subset]\n",
    "    return subset_list\n",
    "\n",
    "A = list(range(1,5)) # 1부터 4까지의 자연수로 이루어진 리스트\n",
    "print(cal_subset(A,2)) # 그 중 두개로 구성된 부분집합"
   ]
  },
  {
   "cell_type": "code",
   "execution_count": null,
   "metadata": {},
   "outputs": [],
   "source": [
    "# 종이붙이기 문제, 창고털기 문제 등 .. 규칙을 찾는것 정답일수 있음 (점화식)\n",
    "total = [0] * 31\n",
    "total[1] = 1\n",
    "total[2] = 3\n",
    "for k in range(3,31):\n",
    "    total[k] = total[k-1] + 2*total[k-2]\n",
    "\n",
    "T = int(input())\n",
    "for tc in range(1,T+1):\n",
    "    N = int(input())\n",
    "    print(f\"#{tc} {total[N//10]}\")\n",
    "#이것처럼"
   ]
  },
  {
   "cell_type": "code",
   "execution_count": null,
   "metadata": {},
   "outputs": [],
   "source": [
    "# DFS 식 세울 때, 미로를 찾는 경우라면 stack이 비어있는 것으로 시작하자.\n",
    "# 물론 스택에 넣고 시작할 순 있는데, 나는 그 방법이 실수가 많음\n",
    "def find_start(maze):\n",
    "    for i in range(N):\n",
    "        for j in range(N):\n",
    "            if maze[i][j] == '2':\n",
    "                return i,j\n",
    "def find_end(maze):\n",
    "    for i in range(N):\n",
    "        for j in range(N):\n",
    "            if maze[i][j] == '3':\n",
    "                return i, j\n",
    "def DFS(start_i, start_j):\n",
    "    now_i = start_i\n",
    "    now_j = start_j\n",
    "    stack_i = []\n",
    "    stack_j = []\n",
    "    while True:\n",
    "        for dir in range(4):\n",
    "            move_i = now_i+di[dir]\n",
    "            move_j = now_j+dj[dir]\n",
    "            if 0<=move_i<=N-1 and 0<=move_j<=N-1 and maze[move_i][move_j] == '3':\n",
    "                return 1\n",
    "            if 0<=move_i<=N-1 and 0<=move_j<=N-1 and maze[move_i][move_j] != '1':\n",
    "                stack_i += [now_i]\n",
    "                stack_j += [now_j]\n",
    "                now_i = move_i\n",
    "                now_j = move_j\n",
    "                maze[now_i][now_j] = '1'\n",
    "                break\n",
    "        else:\n",
    "            if stack_i == []:\n",
    "                return 0\n",
    "            else:\n",
    "                now_i = stack_i.pop()\n",
    "                now_j = stack_j.pop()\n",
    "\n",
    "di = [-1,1,0,0] # 상 하 좌 우\n",
    "dj = [0,0,-1,1]\n",
    "T = int(input())\n",
    "for tc in range(1,T+1):\n",
    "    N = int(input())\n",
    "    maze = []\n",
    "    for _ in range(N):\n",
    "        maze += [list(input())]\n",
    "    start_i, start_j = find_start(maze)\n",
    "    end_i, end_j = find_end(maze)\n",
    "    print(f\"#{tc} {DFS(start_i, start_j)}\")"
   ]
  },
  {
   "cell_type": "code",
   "execution_count": null,
   "metadata": {},
   "outputs": [],
   "source": [
    "# BFS, DFS 둘 다 정지조건의 위치를 다시한번 생각해보자!\n",
    "# pop 혹은 popleft를 한 후 정지조건을 걸면 모두 탐색하기 전에 끊기는 경우 다수\n",
    "# 따라서 그 행위 전에 정지조건을 거는 것이 바람직한지 다시한번 고려하기."
   ]
  },
  {
   "cell_type": "markdown",
   "metadata": {},
   "source": [
    "# 중위 표기법\n",
    "- 우리가 잘 아는 식으로, 연산자를 피연산자의 가운데 표기하는 방법\n",
    "- Ex. A+B\n",
    "\n",
    "# 후위 표기법\n",
    "- 연산자를 피연산자 뒤에 표기하는 방법이다.\n",
    "- Ex. AB +"
   ]
  },
  {
   "cell_type": "code",
   "execution_count": 34,
   "metadata": {},
   "outputs": [
    {
     "name": "stdout",
     "output_type": "stream",
     "text": [
      "['6', '5', '2', '8', '-', '*', '2', '/', '+']\n"
     ]
    }
   ],
   "source": [
    "# 중위 표기법을 후위 표기법으로 바꾸는 과정\n",
    "# Ex. (6 + 5 * (2 - 8) / 2)\n",
    "example = '(6+5*(2-8)/2)'\n",
    "example = list(example)\n",
    "isp = {'(':0,'+':1,'-':1,'*':2,'/':2} # 스택 내 우선순위\n",
    "icp = {'(':3,'+':1,'-':1,'*':2,'/':2} # 스택 외 우선순위\n",
    "stack = []\n",
    "result = []\n",
    "def change_example(example):\n",
    "    global stack\n",
    "    global result\n",
    "    for k in range(len(example)):\n",
    "        if example[k] == ')':\n",
    "            while True:\n",
    "                if stack[-1] != '(':\n",
    "                    result += [stack.pop()]\n",
    "                elif stack[-1] == '(':\n",
    "                    stack.pop()\n",
    "                    break\n",
    "        elif example[k] not in ['*','/','(','+','-']:\n",
    "            result += [example[k]]\n",
    "        elif stack == [] and example[k] in ['*','/','(','+','-']:\n",
    "            stack += [example[k]]\n",
    "        elif stack != [] and isp[stack[-1]] < icp[example[k]]:\n",
    "            stack += [example[k]]\n",
    "        elif stack != [] and isp[stack[-1]] >= icp[example[k]]:\n",
    "            while True:\n",
    "                result += stack.pop()\n",
    "                if isp[stack[-1]] < icp[example[k]]:\n",
    "                    break\n",
    "            stack += example[k]\n",
    "        elif stack != [] and isp[stack[-1]] >= icp[example[k]]:\n",
    "            result += stack.pop()\n",
    "    return\n",
    "change_example(example)\n",
    "print(result)"
   ]
  },
  {
   "cell_type": "code",
   "execution_count": 41,
   "metadata": {},
   "outputs": [
    {
     "name": "stdout",
     "output_type": "stream",
     "text": [
      "[]\n",
      "['6']\n",
      "['6', '5']\n",
      "['6', '5', '2']\n",
      "['6', '5', '2', '8']\n",
      "['6', '5', -6]\n",
      "['6', -30]\n",
      "['6', -30, '2']\n",
      "['6', -15.0]\n",
      "[-9]\n"
     ]
    }
   ],
   "source": [
    "# 후위표기법 계산하는 방법\n",
    "example = ['6', '5', '2', '8', '-', '*', '2', '/', '+']\n",
    "stack = []\n",
    "result = []\n",
    "for k in range(len(example)):\n",
    "    print(stack)\n",
    "    if example[k] not in ['+','-','*','/']:\n",
    "        stack += [example[k]]\n",
    "    else:\n",
    "        b = int(stack.pop())\n",
    "        a = int(stack.pop())\n",
    "        if example[k] == '+':\n",
    "            stack += [a+b]\n",
    "        elif example[k] == '-':\n",
    "            stack += [a-b]\n",
    "        elif example[k] == '/':\n",
    "            stack += [a/b]\n",
    "        elif example[k] == '*':\n",
    "            stack += [a*b]\n",
    "print(stack)"
   ]
  },
  {
   "cell_type": "code",
   "execution_count": 47,
   "metadata": {},
   "outputs": [
    {
     "name": "stdout",
     "output_type": "stream",
     "text": [
      "#1 84\n",
      "#2 error\n",
      "#3 168\n"
     ]
    }
   ],
   "source": [
    "# 4874.Forth\n",
    "# 후위표기법 계산하는 방법\n",
    "'''\n",
    "숫자는 스택에 쌓고\n",
    "연산자를 만나면 스택에 쌓여있는 두개를 뽑아 (먼저 뽑은 것 b, 후에 뽑은 것 a)\n",
    "이를 연산한다.\n",
    "'''\n",
    "'''\n",
    "3\n",
    "10 2 + 3 4 + * .\n",
    "5 3 * + .\n",
    "1 5 8 10 3 4 + + 3 + * 2 + + + .\n",
    "'''\n",
    "T = int(input())\n",
    "for tc in range(1,T+1):\n",
    "    example = list(input().split())\n",
    "    example.pop()\n",
    "    stack = []\n",
    "    result = []\n",
    "    for k in range(len(example)):\n",
    "        try:\n",
    "            if example[k] not in ['+','-','*','/']:\n",
    "                stack += [example[k]]\n",
    "            else:\n",
    "                b = int(stack.pop())\n",
    "                a = int(stack.pop())\n",
    "                if example[k] == '+':\n",
    "                    stack += [a+b]\n",
    "                elif example[k] == '-':\n",
    "                    stack += [a-b]\n",
    "                elif example[k] == '/':\n",
    "                    stack += [a/b]\n",
    "                elif example[k] == '*':\n",
    "                    stack += [a*b]\n",
    "        except:\n",
    "            stack = []\n",
    "            break\n",
    "\n",
    "    if len(stack) == 1:\n",
    "        print(f\"#{tc} {int(stack[-1])}\")\n",
    "    else:\n",
    "        print(f\"#{tc} error\")"
   ]
  },
  {
   "cell_type": "markdown",
   "metadata": {},
   "source": [
    "# 백트레킹\n",
    "- 가능한 모든 경우를 실행하고 정답을 도출하는 과정\n",
    "- 트리의 관점으로 보는 것이 좋음"
   ]
  },
  {
   "cell_type": "markdown",
   "metadata": {},
   "source": [
    "# 서술형 대비\n",
    "## Stack, Queue, 트리구조의 특징 설명 및 차이점 설명\n",
    "### Stack\n",
    "- 후입 선출 구조로, 가장 최근에 입력된 데이터가 먼저 나가는 데이터 구조를 가지고 있다.\n",
    "- 선형구조를 가진다. (일대일 대응)\n",
    "- 삽입, 삭제가 제한적이다.\n",
    "### Queue\n",
    "- 선입 선출 구조로, 가장 먼저 입력된 데이터가 먼저 나가는 데이터 구조를 가지고 있다.\n",
    "- 선형구조를 가진다. (일대일 대응)\n",
    "- 삽입, 삭제가 제한적이다.\n",
    "### 트리\n",
    "- 비선형구조를 가진다 (1:n 대응)\n",
    "- 원소들 간 계층구조를 가진다.\n",
    "\n",
    "## 백트래킹\n",
    "- 해를 찾는 도중에 막히면(즉 해가 아니면) 되돌아가서 다시 해를 찾아 가는 기법\n",
    "- 최적화 (optimization) 문제와 결정 (decison) 문제를 해결할 수 있음\n",
    "    - 미로찾기, n-Queen, map coloring, 부분 집합의 합 문제 등\n",
    "\n",
    "## 이진트리란\n",
    "- 각 노드가 최대 2개의 자식노드를 가지는 트리 데이터 구조를 말한다.\n",
    "- 레벨 x 는 최대 2**x 개의 노드가 존재한다. (0단계는 1개, 1단계는 2개 ...)\n",
    "- 높이가 y인 (최대 레벨이 y) 노드의 개수는 (y+1 ~ (2**(y+1))-1)\n",
    "\n",
    "## 이진트리의 순회 방법\n",
    "### 전위순회 (preorder, VLR)\n",
    "- 부모노드 방문 후 자식 노드를 좌 우 순서로 방문\n",
    "### 중위순회 (inorder, LVR)\n",
    "- 자식노드 좌 > 부모노드 > 자식노드 우\n",
    "### 후위순회 (postorder, LRV)\n",
    "- 자식노드를 좌 우 방문하고 부모노드를 방문한다.\n",
    "\n",
    "## 이진트리의 표현 방법 차이\n",
    "1. 배열\n",
    "- 이진트리의 각 레벨 첫번째 노드는 2**(level)이다. 이를 활용해 리스트에 정보를 입력해 표현할 수 있다.\n",
    "- 하지만 편향 이진 트리같은 경우엔 사용하지 않는 배열원소가 있어 메모리 낭비가 있을 수 있다.\n",
    "- 더불어 새로운 노드 추가 혹은 노드 삭제가 어렵다.\n",
    "2. 연결리스트\n",
    "- 이진트리의 특징인 자식 노드가 최대 2개라는 점을 활용한다. left, right 활용 다수\n"
   ]
  }
 ],
 "metadata": {
  "kernelspec": {
   "display_name": "Python 3",
   "language": "python",
   "name": "python3"
  },
  "language_info": {
   "codemirror_mode": {
    "name": "ipython",
    "version": 3
   },
   "file_extension": ".py",
   "mimetype": "text/x-python",
   "name": "python",
   "nbconvert_exporter": "python",
   "pygments_lexer": "ipython3",
   "version": "3.11.8"
  }
 },
 "nbformat": 4,
 "nbformat_minor": 2
}
