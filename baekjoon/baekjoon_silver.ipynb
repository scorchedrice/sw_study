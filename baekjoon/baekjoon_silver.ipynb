{
 "cells": [
  {
   "cell_type": "code",
   "execution_count": null,
   "metadata": {},
   "outputs": [],
   "source": [
    "# 1181 단어정렬 문제\n",
    "def quick_sort(array):\n",
    "    if len(array) <= 1:\n",
    "        return array\n",
    "    pivot = array[0]\n",
    "    tail = array[1:]\n",
    "    right = [num for num in tail if num > pivot]\n",
    "    left = [num for num in tail if num <= pivot]\n",
    "    return quick_sort(left) + [pivot] + quick_sort(right)\n",
    "\n",
    "def sort_codenum(word_list):\n",
    "    result = []\n",
    "    for i in range(len(word_list)):\n",
    "        word_length = len(word_list[i])   \n",
    "        code_list = ''\n",
    "        for j in range(word_length): \n",
    "            my_str = str(ord(word_list[i][j]))\n",
    "            if ord(word_list[i][j]) < 100:\n",
    "                my_str = '0' + str(ord(word_list[i][j]))\n",
    "            code_list = code_list + my_str\n",
    "        result += [int(code_list)]\n",
    "    result = quick_sort(result)\n",
    "    for i in range(len(result)):\n",
    "        result[i] = str(result[i])\n",
    "    \n",
    "    for k in range(len(result)):\n",
    "        if result[k][0:2] == '97' or result[k][0:2] == '98' or result[k][0:2] == '99':\n",
    "            result[k] = '0' + result[k]\n",
    "    return result\n",
    "\n",
    "T = int(input())\n",
    "word_list = []\n",
    "for tc in range(1, T+1):\n",
    "    word_list += list(map(str, input().split()))\n",
    "\n",
    "word_list = sort_codenum(list(set(word_list)))\n",
    "\n",
    "for i in range(len(word_list)):\n",
    "    result_1 = ''\n",
    "    for j in range(int(len(word_list[i])/3)):\n",
    "        result_1 += chr(int(word_list[i][3*j] + word_list[i][j*3+1] + word_list[i][j*3+2]))\n",
    "    print(result_1)\n"
   ]
  },
  {
   "cell_type": "markdown",
   "metadata": {},
   "source": [
    "# index를 다룰 때 주의할 점\n",
    "- '151009'를 만약 3덩어리씩 두번에 나눠서 보는 경우를 생각해보자. 이 경우에 151 chr으로 문자로 변환한다고 한다고 list[0:3] = chr(151) 처럼 해버리면, index의 변화가 생겨 다음에 진행하는 과정에 오류가 발생한다. 이를 방지하기 위해 빈 str 혹은 리스트를 만들어 출력하는 방식이 더 좋을 것이다.\n",
    "# 아스키 코드를 활용하는 방법\n",
    "- 사전 순서에 맞게 == 아스키 코드 오름차순으로\n",
    "- a, b, c 는 100 미만의 값으로, 이 글자들로 시작하는 경우가 있다면 int로 전환시 주의해야한다. (097이 아닌 97로 될 수 있으니)"
   ]
  }
 ],
 "metadata": {
  "language_info": {
   "name": "python"
  }
 },
 "nbformat": 4,
 "nbformat_minor": 2
}
